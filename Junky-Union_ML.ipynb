{
 "cells": [
  {
   "cell_type": "markdown",
   "metadata": {},
   "source": [
    "# Descripcipción del proyecto"
   ]
  },
  {
   "cell_type": "markdown",
   "metadata": {},
   "source": [
    "Film Junky Union, una nueva comunidad vanguardista para los aficionados de las películas clásicas, está desarrollando un sistema para filtrar y categorizar reseñas de películas. Tu objetivo es entrenar un modelo para detectar las críticas negativas de forma automática. Para lograrlo, utilizarás un conjunto de datos de reseñas de películas de IMDB con leyendas de polaridad para construir un modelo para clasificar las reseñas positivas y negativas. Este deberá alcanzar un valor F1 de al menos 0.85."
   ]
  },
  {
   "cell_type": "markdown",
   "metadata": {},
   "source": [
    "## Inicialización"
   ]
  },
  {
   "cell_type": "code",
   "execution_count": 89,
   "metadata": {},
   "outputs": [],
   "source": [
    "import pandas as pd\n",
    "import numpy as np\n",
    "import torch\n",
    "\n",
    "import matplotlib.pyplot as plt\n",
    "import matplotlib.dates as mdates\n",
    "import seaborn as sns\n",
    "\n",
    "from tqdm.auto import tqdm\n",
    "\n",
    "from sklearn.feature_extraction.text import TfidfVectorizer\n",
    "from sklearn.model_selection import train_test_split, cross_val_score\n",
    "from sklearn.metrics import f1_score, roc_auc_score, confusion_matrix\n",
    "from sklearn.linear_model import LogisticRegression\n",
    "from sklearn.ensemble import RandomForestClassifier\n",
    "\n",
    "from catboost import CatBoostClassifier\n",
    "from lightgbm import LGBMClassifier\n",
    "\n",
    "import spacy\n",
    "import re\n",
    "import nltk\n",
    "\n",
    "from nltk.corpus import stopwords as nltk_stopwords"
   ]
  },
  {
   "cell_type": "code",
   "execution_count": 90,
   "metadata": {},
   "outputs": [],
   "source": [
    "%matplotlib inline\n",
    "%config InlineBackend.figure_format = 'png'\n",
    "# la siguiente línea proporciona gráficos de mejor calidad en pantallas HiDPI\n",
    "# %config InlineBackend.figure_format = 'retina'\n",
    "\n",
    "plt.style.use('seaborn')"
   ]
  },
  {
   "cell_type": "code",
   "execution_count": 91,
   "metadata": {},
   "outputs": [],
   "source": [
    "# esto es para usar progress_apply, puedes leer más en https://pypi.org/project/tqdm/#pandas-integration\n",
    "tqdm.pandas()"
   ]
  },
  {
   "cell_type": "markdown",
   "metadata": {},
   "source": [
    "## Cargar datos"
   ]
  },
  {
   "cell_type": "code",
   "execution_count": 92,
   "metadata": {},
   "outputs": [],
   "source": [
    "df = pd.read_csv('/datasets/imdb_reviews.tsv', sep='\\t', dtype={'votes': 'Int64'})"
   ]
  },
  {
   "cell_type": "markdown",
   "metadata": {},
   "source": [
    "## Exploración del data set"
   ]
  },
  {
   "cell_type": "markdown",
   "metadata": {},
   "source": [
    "Vamos a explorar el dataset de tendencias, frecuencias y el desbalance de la posibilidad de las clases"
   ]
  },
  {
   "cell_type": "code",
   "execution_count": 93,
   "metadata": {},
   "outputs": [
    {
     "name": "stdout",
     "output_type": "stream",
     "text": [
      "<class 'pandas.core.frame.DataFrame'>\n",
      "RangeIndex: 47331 entries, 0 to 47330\n",
      "Data columns (total 17 columns):\n",
      " #   Column           Non-Null Count  Dtype  \n",
      "---  ------           --------------  -----  \n",
      " 0   tconst           47331 non-null  object \n",
      " 1   title_type       47331 non-null  object \n",
      " 2   primary_title    47331 non-null  object \n",
      " 3   original_title   47331 non-null  object \n",
      " 4   start_year       47331 non-null  int64  \n",
      " 5   end_year         47331 non-null  object \n",
      " 6   runtime_minutes  47331 non-null  object \n",
      " 7   is_adult         47331 non-null  int64  \n",
      " 8   genres           47331 non-null  object \n",
      " 9   average_rating   47329 non-null  float64\n",
      " 10  votes            47329 non-null  Int64  \n",
      " 11  review           47331 non-null  object \n",
      " 12  rating           47331 non-null  int64  \n",
      " 13  sp               47331 non-null  object \n",
      " 14  pos              47331 non-null  int64  \n",
      " 15  ds_part          47331 non-null  object \n",
      " 16  idx              47331 non-null  int64  \n",
      "dtypes: Int64(1), float64(1), int64(5), object(10)\n",
      "memory usage: 6.2+ MB\n"
     ]
    }
   ],
   "source": [
    "df.info()"
   ]
  },
  {
   "cell_type": "code",
   "execution_count": 94,
   "metadata": {},
   "outputs": [
    {
     "data": {
      "text/html": [
       "<div>\n",
       "<style scoped>\n",
       "    .dataframe tbody tr th:only-of-type {\n",
       "        vertical-align: middle;\n",
       "    }\n",
       "\n",
       "    .dataframe tbody tr th {\n",
       "        vertical-align: top;\n",
       "    }\n",
       "\n",
       "    .dataframe thead th {\n",
       "        text-align: right;\n",
       "    }\n",
       "</style>\n",
       "<table border=\"1\" class=\"dataframe\">\n",
       "  <thead>\n",
       "    <tr style=\"text-align: right;\">\n",
       "      <th></th>\n",
       "      <th>tconst</th>\n",
       "      <th>title_type</th>\n",
       "      <th>primary_title</th>\n",
       "      <th>original_title</th>\n",
       "      <th>start_year</th>\n",
       "      <th>end_year</th>\n",
       "      <th>runtime_minutes</th>\n",
       "      <th>is_adult</th>\n",
       "      <th>genres</th>\n",
       "      <th>average_rating</th>\n",
       "      <th>votes</th>\n",
       "      <th>review</th>\n",
       "      <th>rating</th>\n",
       "      <th>sp</th>\n",
       "      <th>pos</th>\n",
       "      <th>ds_part</th>\n",
       "      <th>idx</th>\n",
       "    </tr>\n",
       "  </thead>\n",
       "  <tbody>\n",
       "    <tr>\n",
       "      <th>0</th>\n",
       "      <td>tt0068152</td>\n",
       "      <td>movie</td>\n",
       "      <td>$</td>\n",
       "      <td>$</td>\n",
       "      <td>1971</td>\n",
       "      <td>\\N</td>\n",
       "      <td>121</td>\n",
       "      <td>0</td>\n",
       "      <td>Comedy,Crime,Drama</td>\n",
       "      <td>6.3</td>\n",
       "      <td>2218</td>\n",
       "      <td>The pakage implies that Warren Beatty and Gold...</td>\n",
       "      <td>1</td>\n",
       "      <td>neg</td>\n",
       "      <td>0</td>\n",
       "      <td>train</td>\n",
       "      <td>8335</td>\n",
       "    </tr>\n",
       "    <tr>\n",
       "      <th>1</th>\n",
       "      <td>tt0068152</td>\n",
       "      <td>movie</td>\n",
       "      <td>$</td>\n",
       "      <td>$</td>\n",
       "      <td>1971</td>\n",
       "      <td>\\N</td>\n",
       "      <td>121</td>\n",
       "      <td>0</td>\n",
       "      <td>Comedy,Crime,Drama</td>\n",
       "      <td>6.3</td>\n",
       "      <td>2218</td>\n",
       "      <td>How the hell did they get this made?! Presenti...</td>\n",
       "      <td>1</td>\n",
       "      <td>neg</td>\n",
       "      <td>0</td>\n",
       "      <td>train</td>\n",
       "      <td>8336</td>\n",
       "    </tr>\n",
       "    <tr>\n",
       "      <th>2</th>\n",
       "      <td>tt0313150</td>\n",
       "      <td>short</td>\n",
       "      <td>'15'</td>\n",
       "      <td>'15'</td>\n",
       "      <td>2002</td>\n",
       "      <td>\\N</td>\n",
       "      <td>25</td>\n",
       "      <td>0</td>\n",
       "      <td>Comedy,Drama,Short</td>\n",
       "      <td>6.3</td>\n",
       "      <td>184</td>\n",
       "      <td>There is no real story the film seems more lik...</td>\n",
       "      <td>3</td>\n",
       "      <td>neg</td>\n",
       "      <td>0</td>\n",
       "      <td>test</td>\n",
       "      <td>2489</td>\n",
       "    </tr>\n",
       "    <tr>\n",
       "      <th>3</th>\n",
       "      <td>tt0313150</td>\n",
       "      <td>short</td>\n",
       "      <td>'15'</td>\n",
       "      <td>'15'</td>\n",
       "      <td>2002</td>\n",
       "      <td>\\N</td>\n",
       "      <td>25</td>\n",
       "      <td>0</td>\n",
       "      <td>Comedy,Drama,Short</td>\n",
       "      <td>6.3</td>\n",
       "      <td>184</td>\n",
       "      <td>Um .... a serious film about troubled teens in...</td>\n",
       "      <td>7</td>\n",
       "      <td>pos</td>\n",
       "      <td>1</td>\n",
       "      <td>test</td>\n",
       "      <td>9280</td>\n",
       "    </tr>\n",
       "    <tr>\n",
       "      <th>4</th>\n",
       "      <td>tt0313150</td>\n",
       "      <td>short</td>\n",
       "      <td>'15'</td>\n",
       "      <td>'15'</td>\n",
       "      <td>2002</td>\n",
       "      <td>\\N</td>\n",
       "      <td>25</td>\n",
       "      <td>0</td>\n",
       "      <td>Comedy,Drama,Short</td>\n",
       "      <td>6.3</td>\n",
       "      <td>184</td>\n",
       "      <td>I'm totally agree with GarryJohal from Singapo...</td>\n",
       "      <td>9</td>\n",
       "      <td>pos</td>\n",
       "      <td>1</td>\n",
       "      <td>test</td>\n",
       "      <td>9281</td>\n",
       "    </tr>\n",
       "  </tbody>\n",
       "</table>\n",
       "</div>"
      ],
      "text/plain": [
       "      tconst title_type primary_title original_title  start_year end_year  \\\n",
       "0  tt0068152      movie             $              $        1971       \\N   \n",
       "1  tt0068152      movie             $              $        1971       \\N   \n",
       "2  tt0313150      short          '15'           '15'        2002       \\N   \n",
       "3  tt0313150      short          '15'           '15'        2002       \\N   \n",
       "4  tt0313150      short          '15'           '15'        2002       \\N   \n",
       "\n",
       "  runtime_minutes  is_adult              genres  average_rating  votes  \\\n",
       "0             121         0  Comedy,Crime,Drama             6.3   2218   \n",
       "1             121         0  Comedy,Crime,Drama             6.3   2218   \n",
       "2              25         0  Comedy,Drama,Short             6.3    184   \n",
       "3              25         0  Comedy,Drama,Short             6.3    184   \n",
       "4              25         0  Comedy,Drama,Short             6.3    184   \n",
       "\n",
       "                                              review  rating   sp  pos  \\\n",
       "0  The pakage implies that Warren Beatty and Gold...       1  neg    0   \n",
       "1  How the hell did they get this made?! Presenti...       1  neg    0   \n",
       "2  There is no real story the film seems more lik...       3  neg    0   \n",
       "3  Um .... a serious film about troubled teens in...       7  pos    1   \n",
       "4  I'm totally agree with GarryJohal from Singapo...       9  pos    1   \n",
       "\n",
       "  ds_part   idx  \n",
       "0   train  8335  \n",
       "1   train  8336  \n",
       "2    test  2489  \n",
       "3    test  9280  \n",
       "4    test  9281  "
      ]
     },
     "execution_count": 94,
     "metadata": {},
     "output_type": "execute_result"
    }
   ],
   "source": [
    "df.head()"
   ]
  },
  {
   "cell_type": "code",
   "execution_count": 95,
   "metadata": {},
   "outputs": [
    {
     "data": {
      "text/html": [
       "<div>\n",
       "<style scoped>\n",
       "    .dataframe tbody tr th:only-of-type {\n",
       "        vertical-align: middle;\n",
       "    }\n",
       "\n",
       "    .dataframe tbody tr th {\n",
       "        vertical-align: top;\n",
       "    }\n",
       "\n",
       "    .dataframe thead th {\n",
       "        text-align: right;\n",
       "    }\n",
       "</style>\n",
       "<table border=\"1\" class=\"dataframe\">\n",
       "  <thead>\n",
       "    <tr style=\"text-align: right;\">\n",
       "      <th></th>\n",
       "      <th>tconst</th>\n",
       "      <th>title_type</th>\n",
       "      <th>primary_title</th>\n",
       "      <th>original_title</th>\n",
       "      <th>start_year</th>\n",
       "      <th>end_year</th>\n",
       "      <th>runtime_minutes</th>\n",
       "      <th>is_adult</th>\n",
       "      <th>genres</th>\n",
       "      <th>average_rating</th>\n",
       "      <th>votes</th>\n",
       "      <th>review</th>\n",
       "      <th>rating</th>\n",
       "      <th>sp</th>\n",
       "      <th>pos</th>\n",
       "      <th>ds_part</th>\n",
       "      <th>idx</th>\n",
       "    </tr>\n",
       "  </thead>\n",
       "  <tbody>\n",
       "    <tr>\n",
       "      <th>22280</th>\n",
       "      <td>tt0192317</td>\n",
       "      <td>movie</td>\n",
       "      <td>Mila Ass Painting</td>\n",
       "      <td>Mila Ass Painting</td>\n",
       "      <td>1998</td>\n",
       "      <td>\\N</td>\n",
       "      <td>\\N</td>\n",
       "      <td>0</td>\n",
       "      <td>\\N</td>\n",
       "      <td>NaN</td>\n",
       "      <td>&lt;NA&gt;</td>\n",
       "      <td>This is a truly great film, with excellent dir...</td>\n",
       "      <td>9</td>\n",
       "      <td>pos</td>\n",
       "      <td>1</td>\n",
       "      <td>test</td>\n",
       "      <td>3231</td>\n",
       "    </tr>\n",
       "    <tr>\n",
       "      <th>22281</th>\n",
       "      <td>tt0192317</td>\n",
       "      <td>movie</td>\n",
       "      <td>Mila Ass Painting</td>\n",
       "      <td>Mila Ass Painting</td>\n",
       "      <td>1998</td>\n",
       "      <td>\\N</td>\n",
       "      <td>\\N</td>\n",
       "      <td>0</td>\n",
       "      <td>\\N</td>\n",
       "      <td>NaN</td>\n",
       "      <td>&lt;NA&gt;</td>\n",
       "      <td>A film is beyond all expectations, an excellen...</td>\n",
       "      <td>10</td>\n",
       "      <td>pos</td>\n",
       "      <td>1</td>\n",
       "      <td>test</td>\n",
       "      <td>3232</td>\n",
       "    </tr>\n",
       "  </tbody>\n",
       "</table>\n",
       "</div>"
      ],
      "text/plain": [
       "          tconst title_type      primary_title     original_title  start_year  \\\n",
       "22280  tt0192317      movie  Mila Ass Painting  Mila Ass Painting        1998   \n",
       "22281  tt0192317      movie  Mila Ass Painting  Mila Ass Painting        1998   \n",
       "\n",
       "      end_year runtime_minutes  is_adult genres  average_rating  votes  \\\n",
       "22280       \\N              \\N         0     \\N             NaN   <NA>   \n",
       "22281       \\N              \\N         0     \\N             NaN   <NA>   \n",
       "\n",
       "                                                  review  rating   sp  pos  \\\n",
       "22280  This is a truly great film, with excellent dir...       9  pos    1   \n",
       "22281  A film is beyond all expectations, an excellen...      10  pos    1   \n",
       "\n",
       "      ds_part   idx  \n",
       "22280    test  3231  \n",
       "22281    test  3232  "
      ]
     },
     "execution_count": 95,
     "metadata": {},
     "output_type": "execute_result"
    }
   ],
   "source": [
    "df.query('votes.isna()')"
   ]
  },
  {
   "cell_type": "code",
   "execution_count": 96,
   "metadata": {},
   "outputs": [
    {
     "data": {
      "text/html": [
       "<div>\n",
       "<style scoped>\n",
       "    .dataframe tbody tr th:only-of-type {\n",
       "        vertical-align: middle;\n",
       "    }\n",
       "\n",
       "    .dataframe tbody tr th {\n",
       "        vertical-align: top;\n",
       "    }\n",
       "\n",
       "    .dataframe thead th {\n",
       "        text-align: right;\n",
       "    }\n",
       "</style>\n",
       "<table border=\"1\" class=\"dataframe\">\n",
       "  <thead>\n",
       "    <tr style=\"text-align: right;\">\n",
       "      <th></th>\n",
       "      <th>start_year</th>\n",
       "      <th>is_adult</th>\n",
       "      <th>average_rating</th>\n",
       "      <th>votes</th>\n",
       "      <th>rating</th>\n",
       "      <th>pos</th>\n",
       "      <th>idx</th>\n",
       "    </tr>\n",
       "  </thead>\n",
       "  <tbody>\n",
       "    <tr>\n",
       "      <th>count</th>\n",
       "      <td>47331.000000</td>\n",
       "      <td>47331.000000</td>\n",
       "      <td>47329.000000</td>\n",
       "      <td>4.732900e+04</td>\n",
       "      <td>47331.000000</td>\n",
       "      <td>47331.000000</td>\n",
       "      <td>47331.000000</td>\n",
       "    </tr>\n",
       "    <tr>\n",
       "      <th>mean</th>\n",
       "      <td>1989.631235</td>\n",
       "      <td>0.001732</td>\n",
       "      <td>5.998278</td>\n",
       "      <td>2.556292e+04</td>\n",
       "      <td>5.484608</td>\n",
       "      <td>0.498954</td>\n",
       "      <td>6279.697999</td>\n",
       "    </tr>\n",
       "    <tr>\n",
       "      <th>std</th>\n",
       "      <td>19.600364</td>\n",
       "      <td>0.041587</td>\n",
       "      <td>1.494289</td>\n",
       "      <td>8.367004e+04</td>\n",
       "      <td>3.473109</td>\n",
       "      <td>0.500004</td>\n",
       "      <td>3605.702545</td>\n",
       "    </tr>\n",
       "    <tr>\n",
       "      <th>min</th>\n",
       "      <td>1894.000000</td>\n",
       "      <td>0.000000</td>\n",
       "      <td>1.400000</td>\n",
       "      <td>9.000000e+00</td>\n",
       "      <td>1.000000</td>\n",
       "      <td>0.000000</td>\n",
       "      <td>0.000000</td>\n",
       "    </tr>\n",
       "    <tr>\n",
       "      <th>25%</th>\n",
       "      <td>1982.000000</td>\n",
       "      <td>0.000000</td>\n",
       "      <td>5.100000</td>\n",
       "      <td>8.270000e+02</td>\n",
       "      <td>2.000000</td>\n",
       "      <td>0.000000</td>\n",
       "      <td>3162.000000</td>\n",
       "    </tr>\n",
       "    <tr>\n",
       "      <th>50%</th>\n",
       "      <td>1998.000000</td>\n",
       "      <td>0.000000</td>\n",
       "      <td>6.300000</td>\n",
       "      <td>3.197000e+03</td>\n",
       "      <td>4.000000</td>\n",
       "      <td>0.000000</td>\n",
       "      <td>6299.000000</td>\n",
       "    </tr>\n",
       "    <tr>\n",
       "      <th>75%</th>\n",
       "      <td>2004.000000</td>\n",
       "      <td>0.000000</td>\n",
       "      <td>7.100000</td>\n",
       "      <td>1.397400e+04</td>\n",
       "      <td>9.000000</td>\n",
       "      <td>1.000000</td>\n",
       "      <td>9412.000000</td>\n",
       "    </tr>\n",
       "    <tr>\n",
       "      <th>max</th>\n",
       "      <td>2010.000000</td>\n",
       "      <td>1.000000</td>\n",
       "      <td>9.700000</td>\n",
       "      <td>1.739448e+06</td>\n",
       "      <td>10.000000</td>\n",
       "      <td>1.000000</td>\n",
       "      <td>12499.000000</td>\n",
       "    </tr>\n",
       "  </tbody>\n",
       "</table>\n",
       "</div>"
      ],
      "text/plain": [
       "         start_year      is_adult  average_rating         votes        rating  \\\n",
       "count  47331.000000  47331.000000    47329.000000  4.732900e+04  47331.000000   \n",
       "mean    1989.631235      0.001732        5.998278  2.556292e+04      5.484608   \n",
       "std       19.600364      0.041587        1.494289  8.367004e+04      3.473109   \n",
       "min     1894.000000      0.000000        1.400000  9.000000e+00      1.000000   \n",
       "25%     1982.000000      0.000000        5.100000  8.270000e+02      2.000000   \n",
       "50%     1998.000000      0.000000        6.300000  3.197000e+03      4.000000   \n",
       "75%     2004.000000      0.000000        7.100000  1.397400e+04      9.000000   \n",
       "max     2010.000000      1.000000        9.700000  1.739448e+06     10.000000   \n",
       "\n",
       "                pos           idx  \n",
       "count  47331.000000  47331.000000  \n",
       "mean       0.498954   6279.697999  \n",
       "std        0.500004   3605.702545  \n",
       "min        0.000000      0.000000  \n",
       "25%        0.000000   3162.000000  \n",
       "50%        0.000000   6299.000000  \n",
       "75%        1.000000   9412.000000  \n",
       "max        1.000000  12499.000000  "
      ]
     },
     "execution_count": 96,
     "metadata": {},
     "output_type": "execute_result"
    }
   ],
   "source": [
    "df.describe()"
   ]
  },
  {
   "cell_type": "markdown",
   "metadata": {},
   "source": [
    "El análisis exploratorio del dataset muestra una base de datos relativamente equilibrada en cuanto a las clases positivas y negativas (pos con media cercana a 0.5). Sin embargo, hay un desbalance notable en la variable votes, con valores que van desde solo 9 votos hasta más de 1.7 millones, lo que puede influir significativamente en las tendencias. Además, se identificaron valores nulos en votes y average_rating, que requieren limpieza o imputación para evitar sesgos. El rango amplio de años de producción (1894-2010) y géneros diversos también indican una rica variedad de datos, lo cual podría beneficiar al modelo."
   ]
  },
  {
   "cell_type": "markdown",
   "metadata": {},
   "source": [
    "## EDA"
   ]
  },
  {
   "cell_type": "markdown",
   "metadata": {},
   "source": [
    "Veamos el número de películas y reseñas a lo largo de los años."
   ]
  },
  {
   "cell_type": "code",
   "execution_count": 97,
   "metadata": {},
   "outputs": [
    {
     "data": {
      "image/png": "[encoded data removed]",
      "text/plain": [
       "<Figure size 1600x800 with 3 Axes>"
      ]
     },
     "metadata": {},
     "output_type": "display_data"
    }
   ],
   "source": [
    "fig, axs = plt.subplots(2, 1, figsize=(16, 8))\n",
    "\n",
    "ax = axs[0]\n",
    "\n",
    "dft1 = df[['tconst', 'start_year']].drop_duplicates() \\\n",
    "    ['start_year'].value_counts().sort_index()\n",
    "dft1 = dft1.reindex(index=np.arange(dft1.index.min(), max(dft1.index.max(), 2021))).fillna(0)\n",
    "dft1.plot(kind='bar', ax=ax)\n",
    "ax.set_title('Número de películas a lo largo de los años')\n",
    "\n",
    "ax = axs[1]\n",
    "\n",
    "dft2 = df.groupby(['start_year', 'pos'])['pos'].count().unstack()\n",
    "dft2 = dft2.reindex(index=np.arange(dft2.index.min(), max(dft2.index.max(), 2021))).fillna(0)\n",
    "\n",
    "dft2.plot(kind='bar', stacked=True, label='#reviews (neg, pos)', ax=ax)\n",
    "\n",
    "dft2 = df['start_year'].value_counts().sort_index()\n",
    "dft2 = dft2.reindex(index=np.arange(dft2.index.min(), max(dft2.index.max(), 2021))).fillna(0)\n",
    "dft3 = (dft2/dft1).fillna(0)\n",
    "axt = ax.twinx()\n",
    "dft3.reset_index(drop=True).rolling(5).mean().plot(color='orange', label='reviews per movie (avg over 5 years)', ax=axt)\n",
    "\n",
    "lines, labels = axt.get_legend_handles_labels()\n",
    "ax.legend(lines, labels, loc='upper left')\n",
    "\n",
    "ax.set_title('Número de reseñas a lo largo de los años')\n",
    "\n",
    "fig.tight_layout()"
   ]
  },
  {
   "cell_type": "markdown",
   "metadata": {},
   "source": [
    "El análisis gráfico muestra que el número de películas producidas se incrementa significativamente desde los años 1980, alcanzando un máximo en la década de 2000, lo que refleja un auge en la industria cinematográfica. Sin embargo, hay una caída abrupta después de 2010, posiblemente relacionada con datos incompletos o cambios en los criterios de inclusión del dataset. Por otro lado, las reseñas por película muestran una tendencia al alza constante desde principios del siglo XX, con un pico notable en la misma década de 2000. Esto sugiere que las películas más recientes tienden a recibir más atención y críticas, probablemente debido a la proliferación de plataformas digitales y redes sociales que fomentan la interacción del público."
   ]
  },
  {
   "cell_type": "markdown",
   "metadata": {},
   "source": [
    "Veamos la distribución del número de reseñas por película con el conteo exacto y KDE (solo para saber cómo puede diferir del conteo exacto)"
   ]
  },
  {
   "cell_type": "code",
   "execution_count": 98,
   "metadata": {},
   "outputs": [
    {
     "data": {
      "image/png": "[encoded data removed]",
      "text/plain": [
       "<Figure size 1600x500 with 2 Axes>"
      ]
     },
     "metadata": {},
     "output_type": "display_data"
    }
   ],
   "source": [
    "fig, axs = plt.subplots(1, 2, figsize=(16, 5))\n",
    "\n",
    "ax = axs[0]\n",
    "dft = df.groupby('tconst')['review'].count() \\\n",
    "    .value_counts() \\\n",
    "    .sort_index()\n",
    "dft.plot.bar(ax=ax)\n",
    "ax.set_title('Gráfico de barras de #Reseñas por película')\n",
    "\n",
    "ax = axs[1]\n",
    "dft = df.groupby('tconst')['review'].count()\n",
    "sns.kdeplot(dft, ax=ax)\n",
    "ax.set_title('Gráfico KDE de #Reseñas por película')\n",
    "\n",
    "fig.tight_layout()"
   ]
  },
  {
   "cell_type": "markdown",
   "metadata": {},
   "source": [
    "La distribución del número de reseñas por película muestra que la mayoría de las películas tienen solo unas pocas reseñas, como se observa en el conteo exacto del gráfico de barras. Esto sugiere una fuerte concentración de reseñas en un pequeño número de películas populares. El gráfico KDE refuerza esta idea, mostrando un pico significativo en los valores bajos, lo que indica que la densidad de películas con un número reducido de reseñas es alta. Sin embargo, hay una cola derecha, que representa un número limitado de películas con muchas reseñas, probablemente las más destacadas o relevantes en el dataset."
   ]
  },
  {
   "cell_type": "code",
   "execution_count": 99,
   "metadata": {},
   "outputs": [
    {
     "data": {
      "text/plain": [
       "0    0.501046\n",
       "1    0.498954\n",
       "Name: pos, dtype: float64"
      ]
     },
     "execution_count": 99,
     "metadata": {},
     "output_type": "execute_result"
    }
   ],
   "source": [
    "df['pos'].value_counts()\n",
    "df['pos'].value_counts(normalize=True)"
   ]
  },
  {
   "cell_type": "markdown",
   "metadata": {},
   "source": [
    "No existe desbalance en las clases"
   ]
  },
  {
   "cell_type": "markdown",
   "metadata": {},
   "source": [
    "Distribución de reseñas negativas y positivas a lo largo de los años para dos partes del conjunto de datos"
   ]
  },
  {
   "cell_type": "markdown",
   "metadata": {},
   "source": [
    "# Preprocesamiento de datos"
   ]
  },
  {
   "cell_type": "markdown",
   "metadata": {},
   "source": [
    "Vamos a limipiar y preparar al dataset para el desarrollo del modelo"
   ]
  },
  {
   "cell_type": "code",
   "execution_count": 100,
   "metadata": {},
   "outputs": [],
   "source": [
    "df = df[['review', 'pos']]\n",
    "\n",
    "corpus = df['review']"
   ]
  },
  {
   "cell_type": "code",
   "execution_count": 101,
   "metadata": {},
   "outputs": [
    {
     "data": {
      "text/plain": [
       "<spacy.lang.en.English at 0x7f3c42a6c280>"
      ]
     },
     "execution_count": 101,
     "metadata": {},
     "output_type": "execute_result"
    }
   ],
   "source": [
    "nlp = spacy.load('en_core_web_sm', disable=['parser', 'ner'])\n",
    "nlp"
   ]
  },
  {
   "cell_type": "code",
   "execution_count": 102,
   "metadata": {},
   "outputs": [],
   "source": [
    "def clear_text(text):\n",
    "    pattern = r\"[^a-zA-Z']\"\n",
    "    text = re.sub(pattern, \" \", text)\n",
    "    text = text.split()\n",
    "    text = \" \".join(text)\n",
    "    return text\n",
    "\n",
    "def lemmatize(text):\n",
    "    doc = nlp(text.lower())\n",
    "    lemmas = []\n",
    "    for token in doc:\n",
    "        lemmas.append(token.lemma_)\n",
    "    return' '.join(lemmas)"
   ]
  },
  {
   "cell_type": "code",
   "execution_count": 103,
   "metadata": {},
   "outputs": [],
   "source": [
    "reviews = []\n",
    "for i in range(len(df)):\n",
    "    review = lemmatize(clear_text(corpus[i]))\n",
    "    reviews.append(review)"
   ]
  },
  {
   "cell_type": "code",
   "execution_count": 105,
   "metadata": {
    "scrolled": true
   },
   "outputs": [
    {
     "data": {
      "text/html": [
       "<div>\n",
       "<style scoped>\n",
       "    .dataframe tbody tr th:only-of-type {\n",
       "        vertical-align: middle;\n",
       "    }\n",
       "\n",
       "    .dataframe tbody tr th {\n",
       "        vertical-align: top;\n",
       "    }\n",
       "\n",
       "    .dataframe thead th {\n",
       "        text-align: right;\n",
       "    }\n",
       "</style>\n",
       "<table border=\"1\" class=\"dataframe\">\n",
       "  <thead>\n",
       "    <tr style=\"text-align: right;\">\n",
       "      <th></th>\n",
       "      <th>review</th>\n",
       "      <th>pos</th>\n",
       "      <th>review_lemm</th>\n",
       "    </tr>\n",
       "  </thead>\n",
       "  <tbody>\n",
       "    <tr>\n",
       "      <th>0</th>\n",
       "      <td>The pakage implies that Warren Beatty and Gold...</td>\n",
       "      <td>0</td>\n",
       "      <td>the pakage imply that warren beatty and goldie...</td>\n",
       "    </tr>\n",
       "    <tr>\n",
       "      <th>1</th>\n",
       "      <td>How the hell did they get this made?! Presenti...</td>\n",
       "      <td>0</td>\n",
       "      <td>how the hell do they get this make present its...</td>\n",
       "    </tr>\n",
       "    <tr>\n",
       "      <th>2</th>\n",
       "      <td>There is no real story the film seems more lik...</td>\n",
       "      <td>0</td>\n",
       "      <td>there be no real story the film seem more like...</td>\n",
       "    </tr>\n",
       "    <tr>\n",
       "      <th>3</th>\n",
       "      <td>Um .... a serious film about troubled teens in...</td>\n",
       "      <td>1</td>\n",
       "      <td>um a serious film about troubled teen in singa...</td>\n",
       "    </tr>\n",
       "    <tr>\n",
       "      <th>4</th>\n",
       "      <td>I'm totally agree with GarryJohal from Singapo...</td>\n",
       "      <td>1</td>\n",
       "      <td>I be totally agree with garryjohal from singap...</td>\n",
       "    </tr>\n",
       "  </tbody>\n",
       "</table>\n",
       "</div>"
      ],
      "text/plain": [
       "                                              review  pos  \\\n",
       "0  The pakage implies that Warren Beatty and Gold...    0   \n",
       "1  How the hell did they get this made?! Presenti...    0   \n",
       "2  There is no real story the film seems more lik...    0   \n",
       "3  Um .... a serious film about troubled teens in...    1   \n",
       "4  I'm totally agree with GarryJohal from Singapo...    1   \n",
       "\n",
       "                                         review_lemm  \n",
       "0  the pakage imply that warren beatty and goldie...  \n",
       "1  how the hell do they get this make present its...  \n",
       "2  there be no real story the film seem more like...  \n",
       "3  um a serious film about troubled teen in singa...  \n",
       "4  I be totally agree with garryjohal from singap...  "
      ]
     },
     "execution_count": 105,
     "metadata": {},
     "output_type": "execute_result"
    }
   ],
   "source": [
    "df['review_lemm'] = reviews\n",
    "\n",
    "df.head()"
   ]
  },
  {
   "cell_type": "code",
   "execution_count": 106,
   "metadata": {},
   "outputs": [
    {
     "name": "stdout",
     "output_type": "stream",
     "text": [
      "Index(['review', 'pos', 'review_lemm'], dtype='object')\n"
     ]
    }
   ],
   "source": [
    "print(df.columns)"
   ]
  },
  {
   "cell_type": "code",
   "execution_count": 108,
   "metadata": {},
   "outputs": [
    {
     "data": {
      "text/plain": [
       "((23665, 2), (23666, 2))"
      ]
     },
     "execution_count": 108,
     "metadata": {},
     "output_type": "execute_result"
    }
   ],
   "source": [
    "df = df.drop('review', axis=1)\n",
    "train, test = train_test_split(df,test_size=0.5, random_state=12345)\n",
    "\n",
    "train.shape, test.shape"
   ]
  },
  {
   "cell_type": "code",
   "execution_count": 109,
   "metadata": {},
   "outputs": [],
   "source": [
    "train_corpus = train['review_lemm']\n",
    "test_corpus = test['review_lemm']"
   ]
  },
  {
   "cell_type": "code",
   "execution_count": 113,
   "metadata": {},
   "outputs": [],
   "source": [
    "\n",
    "stop_words = set(nltk_stopwords.words('english'))\n",
    "\n",
    "vectorizer = TfidfVectorizer(stop_words='english')\n",
    "tf_idf = vectorizer.fit_transform(train_corpus)"
   ]
  },
  {
   "cell_type": "code",
   "execution_count": 115,
   "metadata": {},
   "outputs": [
    {
     "data": {
      "text/plain": [
       "((23665, 60631), (23666, 60631))"
      ]
     },
     "execution_count": 115,
     "metadata": {},
     "output_type": "execute_result"
    }
   ],
   "source": [
    "train_features = tf_idf\n",
    "train_target = train['pos']\n",
    "\n",
    "test_features = vectorizer.transform(test_corpus)\n",
    "test_target = test['pos']\n",
    "\n",
    "\n",
    "train_features.shape, test_features.shape"
   ]
  },
  {
   "cell_type": "code",
   "execution_count": 116,
   "metadata": {},
   "outputs": [],
   "source": [
    "np.savez_compressed('features_2.npz', train_features=train_features, test_features=test_features)\n"
   ]
  },
  {
   "cell_type": "markdown",
   "metadata": {},
   "source": [
    "# Entrenamiento de modelos"
   ]
  },
  {
   "cell_type": "code",
   "execution_count": 117,
   "metadata": {},
   "outputs": [],
   "source": [
    "def evaluate_model(model, features, target):\n",
    "    predictions = model.predict(features)\n",
    "    \n",
    "    probabilities = model.predict_proba(features)\n",
    "    probabilities_o = probabilities[:, 1]\n",
    "    \n",
    "    auc_roc = roc_auc_score(target, probabilities_o)\n",
    "    \n",
    "    f1 = f1_score(target, predictions)\n",
    "    \n",
    "    final_sc = cross_val_score(model, features, target, cv=5).mean()\n",
    "    \n",
    "    confusion_ma = confusion_matrix(target.tolist(), predictions.tolist())\n",
    "    \n",
    "    return auc_roc, f1, final_sc, confusion_ma"
   ]
  },
  {
   "cell_type": "markdown",
   "metadata": {},
   "source": [
    "# Modelo 1 - LightGBM"
   ]
  },
  {
   "cell_type": "code",
   "execution_count": 118,
   "metadata": {},
   "outputs": [
    {
     "name": "stdout",
     "output_type": "stream",
     "text": [
      "Área Bajo la Curva ROC: 0.97218277281655\n",
      "F1 score: 0.9095397489539748\n",
      "Puntuación la evaluación del modelo: 0.8515106697654764\n",
      "Matriz de confusion:\n",
      "[[10634  1240]\n",
      " [  922 10869]]\n",
      "CPU times: user 2min 18s, sys: 3.94 s, total: 2min 22s\n",
      "Wall time: 2min 22s\n"
     ]
    }
   ],
   "source": [
    "%%time \n",
    "model_1 = LGBMClassifier(random_state=12345).fit(train_features, train_target)\n",
    "auc_roc, f1, final_sc, confusion_ma = evaluate_model(model = model_1, features=train_features, target=train_target)\n",
    "print('Área Bajo la Curva ROC:', auc_roc)\n",
    "print('F1 score:', f1)\n",
    "print('Puntuación la evaluación del modelo:', final_sc)\n",
    "print('Matriz de confusion:')\n",
    "print(confusion_ma)"
   ]
  },
  {
   "cell_type": "markdown",
   "metadata": {},
   "source": [
    "El modelo LightGBM muestra un desempeño sólido en la tarea de clasificación binaria, logrando un excelente AUC-ROC de 0.972, lo que indica una alta capacidad para separar las clases positiva y negativa. El F1-score de 0.91 refleja un buen equilibrio entre precisión y recall, demostrando que el modelo gestiona bien los falsos positivos y falsos negativos. La puntuación media de 0.85 en validación cruzada sugiere una buena generalización del modelo. Aunque la matriz de confusión muestra 1,240 falsos positivos y 922 falsos negativos, el número de predicciones correctas es significativamente mayor, destacando la eficiencia del modelo."
   ]
  },
  {
   "cell_type": "markdown",
   "metadata": {},
   "source": [
    "# Modelo 2 - Regresión logística"
   ]
  },
  {
   "cell_type": "code",
   "execution_count": 119,
   "metadata": {},
   "outputs": [
    {
     "name": "stdout",
     "output_type": "stream",
     "text": [
      "Área Bajo la Curva ROC: 0.9797505375721073\n",
      "F1 score: 0.9308265639393686\n",
      "Puntuación la evaluación del modelo: 0.8792731882526938\n",
      "Matriz de confusion:\n",
      "[[10898   976]\n",
      " [  676 11115]]\n",
      "CPU times: user 2.8 s, sys: 4.87 s, total: 7.68 s\n",
      "Wall time: 7.58 s\n"
     ]
    }
   ],
   "source": [
    "%%time \n",
    "model_2 = LogisticRegression(random_state=54321, solver='liblinear').fit(train_features, train_target)\n",
    "auc_roc, f1, final_sc, confusion_ma = evaluate_model(model = model_2, features=train_features, target=train_target)\n",
    "print('Área Bajo la Curva ROC:', auc_roc)\n",
    "print('F1 score:', f1)\n",
    "print('Puntuación la evaluación del modelo:', final_sc)\n",
    "print('Matriz de confusion:')\n",
    "print(confusion_ma)"
   ]
  },
  {
   "cell_type": "markdown",
   "metadata": {},
   "source": [
    "El modelo de regresión logística presenta un rendimiento impresionante, logrando un AUC-ROC de 0.98, que indica una excelente capacidad para distinguir entre las clases positiva y negativa. El F1-score de 0.93 supera al modelo LightGBM, reflejando un mejor equilibrio entre precisión y recall. La puntuación media de 0.88 en validación cruzada sugiere que el modelo generaliza bien en nuevos datos. La matriz de confusión muestra una reducción en falsos positivos (976) y falsos negativos (676) en comparación con LightGBM, lo que refuerza la efectividad del modelo. "
   ]
  },
  {
   "cell_type": "markdown",
   "metadata": {},
   "source": [
    "# Modelo 3 - CatBoost"
   ]
  },
  {
   "cell_type": "code",
   "execution_count": 120,
   "metadata": {},
   "outputs": [
    {
     "name": "stdout",
     "output_type": "stream",
     "text": [
      "Learning rate set to 0.5\n",
      "0:\tlearn: 0.5832829\ttotal: 1.24s\tremaining: 11.2s\n",
      "9:\tlearn: 0.4354040\ttotal: 12.8s\tremaining: 0us\n",
      "Learning rate set to 0.5\n",
      "0:\tlearn: 0.5922771\ttotal: 1.04s\tremaining: 9.34s\n",
      "1:\tlearn: 0.5432837\ttotal: 1.83s\tremaining: 7.31s\n",
      "2:\tlearn: 0.5167700\ttotal: 2.61s\tremaining: 6.08s\n",
      "3:\tlearn: 0.5002650\ttotal: 3.42s\tremaining: 5.14s\n",
      "4:\tlearn: 0.4863991\ttotal: 4.34s\tremaining: 4.34s\n",
      "5:\tlearn: 0.4746047\ttotal: 5.17s\tremaining: 3.45s\n",
      "6:\tlearn: 0.4676949\ttotal: 5.96s\tremaining: 2.56s\n",
      "7:\tlearn: 0.4563849\ttotal: 6.76s\tremaining: 1.69s\n",
      "8:\tlearn: 0.4473189\ttotal: 7.53s\tremaining: 837ms\n",
      "9:\tlearn: 0.4395648\ttotal: 8.31s\tremaining: 0us\n",
      "Learning rate set to 0.5\n",
      "0:\tlearn: 0.5846502\ttotal: 1.06s\tremaining: 9.51s\n",
      "1:\tlearn: 0.5414568\ttotal: 1.86s\tremaining: 7.45s\n",
      "2:\tlearn: 0.5198019\ttotal: 2.67s\tremaining: 6.23s\n",
      "3:\tlearn: 0.5024490\ttotal: 3.46s\tremaining: 5.18s\n",
      "4:\tlearn: 0.4892966\ttotal: 4.25s\tremaining: 4.25s\n",
      "5:\tlearn: 0.4783368\ttotal: 5.04s\tremaining: 3.36s\n",
      "6:\tlearn: 0.4682395\ttotal: 5.83s\tremaining: 2.5s\n",
      "7:\tlearn: 0.4566914\ttotal: 6.62s\tremaining: 1.65s\n",
      "8:\tlearn: 0.4469507\ttotal: 7.4s\tremaining: 822ms\n",
      "9:\tlearn: 0.4370693\ttotal: 8.21s\tremaining: 0us\n",
      "Learning rate set to 0.5\n",
      "0:\tlearn: 0.5910442\ttotal: 1.05s\tremaining: 9.48s\n",
      "1:\tlearn: 0.5474362\ttotal: 1.84s\tremaining: 7.38s\n",
      "2:\tlearn: 0.5217198\ttotal: 2.64s\tremaining: 6.16s\n",
      "3:\tlearn: 0.5054346\ttotal: 3.44s\tremaining: 5.16s\n",
      "4:\tlearn: 0.4885549\ttotal: 4.22s\tremaining: 4.22s\n",
      "5:\tlearn: 0.4766979\ttotal: 5s\tremaining: 3.33s\n",
      "6:\tlearn: 0.4653593\ttotal: 5.79s\tremaining: 2.48s\n",
      "7:\tlearn: 0.4552722\ttotal: 6.57s\tremaining: 1.64s\n",
      "8:\tlearn: 0.4458601\ttotal: 7.34s\tremaining: 816ms\n",
      "9:\tlearn: 0.4404703\ttotal: 8.12s\tremaining: 0us\n",
      "Learning rate set to 0.5\n",
      "0:\tlearn: 0.5944302\ttotal: 1.06s\tremaining: 9.57s\n",
      "1:\tlearn: 0.5472707\ttotal: 1.85s\tremaining: 7.41s\n",
      "2:\tlearn: 0.5189795\ttotal: 2.65s\tremaining: 6.17s\n",
      "3:\tlearn: 0.5038920\ttotal: 3.46s\tremaining: 5.18s\n",
      "4:\tlearn: 0.4886081\ttotal: 4.26s\tremaining: 4.26s\n",
      "5:\tlearn: 0.4755687\ttotal: 5.08s\tremaining: 3.39s\n",
      "6:\tlearn: 0.4640542\ttotal: 5.88s\tremaining: 2.52s\n",
      "7:\tlearn: 0.4535231\ttotal: 6.66s\tremaining: 1.67s\n",
      "8:\tlearn: 0.4436110\ttotal: 7.44s\tremaining: 827ms\n",
      "9:\tlearn: 0.4368966\ttotal: 8.22s\tremaining: 0us\n",
      "Learning rate set to 0.5\n",
      "0:\tlearn: 0.5858165\ttotal: 1.04s\tremaining: 9.35s\n",
      "1:\tlearn: 0.5440432\ttotal: 1.82s\tremaining: 7.29s\n",
      "2:\tlearn: 0.5191090\ttotal: 2.61s\tremaining: 6.1s\n",
      "3:\tlearn: 0.4998102\ttotal: 3.4s\tremaining: 5.09s\n",
      "4:\tlearn: 0.4826732\ttotal: 4.19s\tremaining: 4.19s\n",
      "5:\tlearn: 0.4695462\ttotal: 4.99s\tremaining: 3.33s\n",
      "6:\tlearn: 0.4576229\ttotal: 5.79s\tremaining: 2.48s\n",
      "7:\tlearn: 0.4472316\ttotal: 6.57s\tremaining: 1.64s\n",
      "8:\tlearn: 0.4397136\ttotal: 7.38s\tremaining: 820ms\n",
      "9:\tlearn: 0.4320876\ttotal: 8.16s\tremaining: 0us\n",
      "Área Bajo la Curva ROC: 0.8898256846008125\n",
      "F1 score: 0.8137448195388887\n",
      "Puntuación la evaluación del modelo: 0.7954362983308684\n",
      "Matriz de confusion:\n",
      "[[ 8924  2950]\n",
      " [ 1679 10112]]\n",
      "CPU times: user 1min 5s, sys: 6.63 s, total: 1min 11s\n",
      "Wall time: 1min 12s\n"
     ]
    }
   ],
   "source": [
    "%%time \n",
    "model_3 = CatBoostClassifier(iterations=10, loss_function='Logloss', random_seed=12345).fit(train_features, train_target, verbose=10)\n",
    "auc_roc, f1, final_sc, confusion_ma = evaluate_model(model = model_3, features=train_features, target=train_target)\n",
    "print('Área Bajo la Curva ROC:', auc_roc)\n",
    "print('F1 score:', f1)\n",
    "print('Puntuación la evaluación del modelo:', final_sc)\n",
    "print('Matriz de confusion:')\n",
    "print(confusion_ma)"
   ]
  },
  {
   "cell_type": "markdown",
   "metadata": {},
   "source": [
    "El modelo CatBoost muestra un rendimiento más modesto en comparación con los modelos anteriores (LightGBM y regresión logística). Con un AUC-ROC de 0.89, tiene una capacidad aceptable para distinguir entre clases, pero significativamente menor que los modelos anteriores. El F1-score de 0.81 indica que el modelo tiene un equilibrio moderado entre precisión y recall, aunque es inferior a los otros modelos evaluados. La matriz de confusión revela una mayor cantidad de falsos positivos (2,950) y falsos negativos (1,679), lo que sugiere que el modelo tiene dificultades para predecir correctamente ambas clases. Aunque CatBoost es un modelo poderoso, con solo 10 iteraciones su capacidad está limitada, lo que puede explicar el desempeño subóptimo. "
   ]
  },
  {
   "cell_type": "markdown",
   "metadata": {},
   "source": [
    "# Mis reseñas"
   ]
  },
  {
   "cell_type": "code",
   "execution_count": 121,
   "metadata": {},
   "outputs": [],
   "source": [
    "my_reviews = pd.DataFrame([\n",
    "    'I did not simply like it, not my kind of movie.',\n",
    "    'Well, I was bored and felt asleep in the middle of the movie.',\n",
    "    'I was really fascinated with the movie',    \n",
    "    'Even the actors looked really old and disinterested, and they got paid to be in the movie. What a soulless cash grab.',\n",
    "    'I didn\\'t expect the reboot to be so good! Writers really cared about the source material',\n",
    "    'The movie had its upsides and downsides, but I feel like overall it\\'s a decent flick. I could see myself going to see it again.',\n",
    "    'What a rotten attempt at a comedy. Not a single joke lands, everyone acts annoying and loud, even kids won\\'t like this!',\n",
    "    'Launching on Netflix was a brave move & I really appreciate being able to binge on episode after episode, of this exciting intelligent new drama.'\n",
    "], columns=['review'])\n",
    "\n",
    "corpus = my_reviews['review']"
   ]
  },
  {
   "cell_type": "code",
   "execution_count": 122,
   "metadata": {},
   "outputs": [
    {
     "data": {
      "text/plain": [
       "['I do not simply like it not my kind of movie',\n",
       " 'well I be bored and feel asleep in the middle of the movie',\n",
       " 'I be really fascinated with the movie',\n",
       " 'even the actor look really old and disintereste and they get pay to be in the movie what a soulless cash grab',\n",
       " 'I do not expect the reboot to be so good writer really care about the source material',\n",
       " 'the movie have its upside and downside but I feel like overall it be a decent flick I could see myself go to see it again',\n",
       " 'what a rotten attempt at a comedy not a single joke land everyone act annoying and loud even kid will not like this',\n",
       " 'launch on netflix be a brave move I really appreciate be able to binge on episode after episode of this exciting intelligent new drama']"
      ]
     },
     "execution_count": 122,
     "metadata": {},
     "output_type": "execute_result"
    }
   ],
   "source": [
    "my_reviews_lemm = []\n",
    "for i in range(len(my_reviews)):\n",
    "    review = lemmatize(clear_text(corpus[i]))\n",
    "    my_reviews_lemm.append(review)\n",
    "\n",
    "my_reviews_lemm"
   ]
  },
  {
   "cell_type": "code",
   "execution_count": 123,
   "metadata": {},
   "outputs": [
    {
     "data": {
      "text/html": [
       "<div>\n",
       "<style scoped>\n",
       "    .dataframe tbody tr th:only-of-type {\n",
       "        vertical-align: middle;\n",
       "    }\n",
       "\n",
       "    .dataframe tbody tr th {\n",
       "        vertical-align: top;\n",
       "    }\n",
       "\n",
       "    .dataframe thead th {\n",
       "        text-align: right;\n",
       "    }\n",
       "</style>\n",
       "<table border=\"1\" class=\"dataframe\">\n",
       "  <thead>\n",
       "    <tr style=\"text-align: right;\">\n",
       "      <th></th>\n",
       "      <th>review</th>\n",
       "      <th>review_lemm</th>\n",
       "    </tr>\n",
       "  </thead>\n",
       "  <tbody>\n",
       "    <tr>\n",
       "      <th>0</th>\n",
       "      <td>I did not simply like it, not my kind of movie.</td>\n",
       "      <td>I do not simply like it not my kind of movie</td>\n",
       "    </tr>\n",
       "    <tr>\n",
       "      <th>1</th>\n",
       "      <td>Well, I was bored and felt asleep in the middl...</td>\n",
       "      <td>well I be bored and feel asleep in the middle ...</td>\n",
       "    </tr>\n",
       "    <tr>\n",
       "      <th>2</th>\n",
       "      <td>I was really fascinated with the movie</td>\n",
       "      <td>I be really fascinated with the movie</td>\n",
       "    </tr>\n",
       "    <tr>\n",
       "      <th>3</th>\n",
       "      <td>Even the actors looked really old and disinter...</td>\n",
       "      <td>even the actor look really old and disinterest...</td>\n",
       "    </tr>\n",
       "    <tr>\n",
       "      <th>4</th>\n",
       "      <td>I didn't expect the reboot to be so good! Writ...</td>\n",
       "      <td>I do not expect the reboot to be so good write...</td>\n",
       "    </tr>\n",
       "    <tr>\n",
       "      <th>5</th>\n",
       "      <td>The movie had its upsides and downsides, but I...</td>\n",
       "      <td>the movie have its upside and downside but I f...</td>\n",
       "    </tr>\n",
       "    <tr>\n",
       "      <th>6</th>\n",
       "      <td>What a rotten attempt at a comedy. Not a singl...</td>\n",
       "      <td>what a rotten attempt at a comedy not a single...</td>\n",
       "    </tr>\n",
       "    <tr>\n",
       "      <th>7</th>\n",
       "      <td>Launching on Netflix was a brave move &amp; I real...</td>\n",
       "      <td>launch on netflix be a brave move I really app...</td>\n",
       "    </tr>\n",
       "  </tbody>\n",
       "</table>\n",
       "</div>"
      ],
      "text/plain": [
       "                                              review  \\\n",
       "0    I did not simply like it, not my kind of movie.   \n",
       "1  Well, I was bored and felt asleep in the middl...   \n",
       "2             I was really fascinated with the movie   \n",
       "3  Even the actors looked really old and disinter...   \n",
       "4  I didn't expect the reboot to be so good! Writ...   \n",
       "5  The movie had its upsides and downsides, but I...   \n",
       "6  What a rotten attempt at a comedy. Not a singl...   \n",
       "7  Launching on Netflix was a brave move & I real...   \n",
       "\n",
       "                                         review_lemm  \n",
       "0       I do not simply like it not my kind of movie  \n",
       "1  well I be bored and feel asleep in the middle ...  \n",
       "2              I be really fascinated with the movie  \n",
       "3  even the actor look really old and disinterest...  \n",
       "4  I do not expect the reboot to be so good write...  \n",
       "5  the movie have its upside and downside but I f...  \n",
       "6  what a rotten attempt at a comedy not a single...  \n",
       "7  launch on netflix be a brave move I really app...  "
      ]
     },
     "execution_count": 123,
     "metadata": {},
     "output_type": "execute_result"
    }
   ],
   "source": [
    "my_reviews['review_lemm'] = my_reviews_lemm\n",
    "\n",
    "my_reviews"
   ]
  },
  {
   "cell_type": "code",
   "execution_count": 124,
   "metadata": {},
   "outputs": [],
   "source": [
    "features = vectorizer.transform(my_reviews['review_lemm'])"
   ]
  },
  {
   "cell_type": "code",
   "execution_count": 125,
   "metadata": {},
   "outputs": [
    {
     "data": {
      "text/plain": [
       "(8, 60631)"
      ]
     },
     "execution_count": 125,
     "metadata": {},
     "output_type": "execute_result"
    }
   ],
   "source": [
    "corpus = my_reviews['review_lemm']\n",
    "\n",
    "features = vectorizer.transform(corpus)\n",
    "features.shape"
   ]
  },
  {
   "cell_type": "markdown",
   "metadata": {},
   "source": [
    "# LightGBM"
   ]
  },
  {
   "cell_type": "code",
   "execution_count": 126,
   "metadata": {
    "scrolled": true
   },
   "outputs": [
    {
     "name": "stdout",
     "output_type": "stream",
     "text": [
      "0.60, 1:  I do not simply like it not my kind of movie\n",
      "0.45, 0:  well I be bored and feel asleep in the middle of the movie\n",
      "0.62, 1:  I be really fascinated with the movie\n",
      "0.44, 0:  even the actor look really old and disintereste and they get pay to be in the movie what a soulless cash grab\n",
      "0.75, 1:  I do not expect the reboot to be so good writer really care about the source material\n",
      "0.53, 1:  the movie have its upside and downside but I feel like overall it be a decent flick I could see myself go to see it again\n",
      "0.32, 0:  what a rotten attempt at a comedy not a single joke land everyone act annoying and loud even kid will not like this\n",
      "0.82, 1:  launch on netflix be a brave move I really appreciate be able to binge on episode after episode of this exciting intelligent new drama\n"
     ]
    }
   ],
   "source": [
    "probabilities = model_1.predict_proba(features)\n",
    "predictions = model_1.predict(features)\n",
    " \n",
    "for i, review in enumerate(corpus.str.slice(0, 200)):\n",
    "    print(f'{probabilities[:,1][i]:.2f}, {predictions[i]}:  {review}')"
   ]
  },
  {
   "cell_type": "markdown",
   "metadata": {},
   "source": [
    "# Regresión logística"
   ]
  },
  {
   "cell_type": "code",
   "execution_count": 127,
   "metadata": {},
   "outputs": [
    {
     "name": "stdout",
     "output_type": "stream",
     "text": [
      "0.19, 0:  I do not simply like it not my kind of movie\n",
      "0.10, 0:  well I be bored and feel asleep in the middle of the movie\n",
      "0.59, 1:  I be really fascinated with the movie\n",
      "0.17, 0:  even the actor look really old and disintereste and they get pay to be in the movie what a soulless cash grab\n",
      "0.42, 0:  I do not expect the reboot to be so good writer really care about the source material\n",
      "0.39, 0:  the movie have its upside and downside but I feel like overall it be a decent flick I could see myself go to see it again\n",
      "0.04, 0:  what a rotten attempt at a comedy not a single joke land everyone act annoying and loud even kid will not like this\n",
      "0.91, 1:  launch on netflix be a brave move I really appreciate be able to binge on episode after episode of this exciting intelligent new drama\n"
     ]
    }
   ],
   "source": [
    "\n",
    "probabilities = model_2.predict_proba(features)\n",
    "predictions = model_2.predict(features)\n",
    " \n",
    "for i, review in enumerate(corpus.str.slice(0, 300)):\n",
    "    print(f'{probabilities[:,1][i]:.2f}, {predictions[i]}:  {review}')"
   ]
  },
  {
   "cell_type": "markdown",
   "metadata": {},
   "source": [
    "# CatBoost"
   ]
  },
  {
   "cell_type": "code",
   "execution_count": 128,
   "metadata": {},
   "outputs": [
    {
     "name": "stdout",
     "output_type": "stream",
     "text": [
      "0.62, 1:  I do not simply like it not my kind of movie\n",
      "0.62, 1:  well I be bored and feel asleep in the middle of the movie\n",
      "0.62, 1:  I be really fascinated with the movie\n",
      "0.62, 1:  even the actor look really old and disintereste and they get pay to be in the movie what a soulless cash grab\n",
      "0.67, 1:  I do not expect the reboot to be so good writer really care about the source material\n",
      "0.62, 1:  the movie have its upside and downside but I feel like overall it be a decent flick I could see myself go to see it again\n",
      "0.62, 1:  what a rotten attempt at a comedy not a single joke land everyone act annoying and loud even kid will not like this\n",
      "0.62, 1:  launch on netflix be a brave move I really appreciate be able to binge on episode after episode of this exciting intelligent new drama\n"
     ]
    }
   ],
   "source": [
    "probabilities = model_3.predict_proba(features)\n",
    "predictions = model_3.predict(features)\n",
    " \n",
    "for i, review in enumerate(corpus.str.slice(0, 300)):\n",
    "    print(f'{probabilities[:,1][i]:.2f}, {predictions[i]}:  {review}')"
   ]
  },
  {
   "cell_type": "markdown",
   "metadata": {},
   "source": [
    "LightGBM fue el modelo más confiable, generando probabilidades coherentes y clasificando correctamente tanto reseñas positivas como negativas. La Regresión Logística mostró un buen desempeño pero fue más conservadora, subestimando algunas reseñas positivas. Por otro lado, CatBoost tuvo resultados inconsistentes, ya que asignó probabilidades similares (0.62) a casi todas las reseñas, clasificándolas mayoritariamente como positivas, lo que indica un posible sobreajuste o mala configuración. En general, LightGBM es la mejor opción para este caso."
   ]
  },
  {
   "cell_type": "markdown",
   "metadata": {},
   "source": [
    "## Conclusiones"
   ]
  },
  {
   "cell_type": "markdown",
   "metadata": {},
   "source": [
    "El proyecto para Film Junky Union cumplió su objetivo de clasificar reseñas de películas como positivas o negativas, destacando al modelo LightGBM como la mejor opción gracias a su excelente desempeño con un AUC-ROC de 0.972 y un F1-score de 0.91. Este modelo mostró un equilibrio sólido entre precisión y recall, superando a la Regresión Logística, que aunque fue efectiva, tendió a subestimar reseñas positivas. CatBoost, por su parte, presentó inconsistencias debido a una configuración limitada. La evaluación con reseñas propias reafirmó la robustez de LightGBM, consolidándolo como la herramienta ideal para automatizar la detección de críticas en esta comunidad."
   ]
  }
 ],
 "metadata": {
  "ExecuteTimeLog": [
   {
    "duration": 3621,
    "start_time": "2025-01-21T22:56:36.760Z"
   },
   {
    "duration": 7,
    "start_time": "2025-01-21T22:57:15.369Z"
   },
   {
    "duration": 3,
    "start_time": "2025-01-21T22:57:29.148Z"
   },
   {
    "duration": 711,
    "start_time": "2025-01-21T23:00:18.970Z"
   },
   {
    "duration": 219,
    "start_time": "2025-01-21T23:00:54.786Z"
   },
   {
    "duration": 608,
    "start_time": "2025-01-21T23:01:05.352Z"
   },
   {
    "duration": 31,
    "start_time": "2025-01-21T23:01:05.961Z"
   },
   {
    "duration": 3,
    "start_time": "2025-01-21T23:26:55.448Z"
   },
   {
    "duration": 5,
    "start_time": "2025-01-21T23:26:55.935Z"
   },
   {
    "duration": 3,
    "start_time": "2025-01-21T23:26:57.435Z"
   },
   {
    "duration": 610,
    "start_time": "2025-01-21T23:27:05.735Z"
   },
   {
    "duration": 27,
    "start_time": "2025-01-21T23:27:06.469Z"
   },
   {
    "duration": 2505,
    "start_time": "2025-01-22T12:24:33.368Z"
   },
   {
    "duration": 5,
    "start_time": "2025-01-22T12:27:41.883Z"
   },
   {
    "duration": 3,
    "start_time": "2025-01-22T12:27:48.051Z"
   },
   {
    "duration": 215,
    "start_time": "2025-01-22T12:28:39.870Z"
   },
   {
    "duration": 2,
    "start_time": "2025-01-22T12:28:45.357Z"
   },
   {
    "duration": 7,
    "start_time": "2025-01-22T12:28:45.500Z"
   },
   {
    "duration": 3,
    "start_time": "2025-01-22T12:28:45.703Z"
   },
   {
    "duration": 670,
    "start_time": "2025-01-22T12:28:46.609Z"
   },
   {
    "duration": 32,
    "start_time": "2025-01-22T12:28:47.585Z"
   },
   {
    "duration": 614,
    "start_time": "2025-01-22T12:35:57.591Z"
   },
   {
    "duration": 26,
    "start_time": "2025-01-22T12:36:06.581Z"
   },
   {
    "duration": 38,
    "start_time": "2025-01-22T12:37:33.651Z"
   },
   {
    "duration": 13,
    "start_time": "2025-01-22T12:46:16.321Z"
   },
   {
    "duration": 3,
    "start_time": "2025-01-22T12:47:06.350Z"
   },
   {
    "duration": 5,
    "start_time": "2025-01-22T12:47:28.137Z"
   },
   {
    "duration": 4,
    "start_time": "2025-01-22T12:47:58.252Z"
   },
   {
    "duration": 4,
    "start_time": "2025-01-22T12:48:47.351Z"
   },
   {
    "duration": 7135,
    "start_time": "2025-01-22T12:49:34.571Z"
   },
   {
    "duration": 4,
    "start_time": "2025-01-22T12:49:41.709Z"
   },
   {
    "duration": 6,
    "start_time": "2025-01-22T12:49:41.716Z"
   },
   {
    "duration": 1572,
    "start_time": "2025-01-22T12:49:49.051Z"
   },
   {
    "duration": 6,
    "start_time": "2025-01-22T12:49:54.986Z"
   },
   {
    "duration": 8677,
    "start_time": "2025-01-22T12:51:10.800Z"
   },
   {
    "duration": 4,
    "start_time": "2025-01-22T12:51:19.480Z"
   },
   {
    "duration": 4388,
    "start_time": "2025-01-22T12:52:05.020Z"
   },
   {
    "duration": 4,
    "start_time": "2025-01-22T12:52:09.410Z"
   },
   {
    "duration": 619,
    "start_time": "2025-01-22T12:53:41.074Z"
   },
   {
    "duration": 5,
    "start_time": "2025-01-22T12:53:46.730Z"
   },
   {
    "duration": 6,
    "start_time": "2025-01-22T12:53:47.025Z"
   },
   {
    "duration": 3,
    "start_time": "2025-01-22T12:53:47.482Z"
   },
   {
    "duration": 540,
    "start_time": "2025-01-22T12:53:48.451Z"
   },
   {
    "duration": 614,
    "start_time": "2025-01-22T12:54:07.802Z"
   },
   {
    "duration": 13,
    "start_time": "2025-01-22T13:11:56.352Z"
   },
   {
    "duration": 13,
    "start_time": "2025-01-22T13:13:31.757Z"
   },
   {
    "duration": 21,
    "start_time": "2025-01-22T13:16:13.063Z"
   },
   {
    "duration": 27,
    "start_time": "2025-01-22T13:18:29.570Z"
   },
   {
    "duration": 19,
    "start_time": "2025-01-22T13:19:51.212Z"
   },
   {
    "duration": 4,
    "start_time": "2025-01-22T13:20:12.828Z"
   },
   {
    "duration": 8,
    "start_time": "2025-01-22T13:20:13.142Z"
   },
   {
    "duration": 3,
    "start_time": "2025-01-22T13:20:13.302Z"
   },
   {
    "duration": 585,
    "start_time": "2025-01-22T13:20:13.705Z"
   },
   {
    "duration": 27,
    "start_time": "2025-01-22T13:20:14.488Z"
   },
   {
    "duration": 11,
    "start_time": "2025-01-22T13:20:15.381Z"
   },
   {
    "duration": 15,
    "start_time": "2025-01-22T13:20:15.789Z"
   },
   {
    "duration": 16,
    "start_time": "2025-01-22T13:20:16.099Z"
   },
   {
    "duration": 72,
    "start_time": "2025-01-22T13:21:55.535Z"
   },
   {
    "duration": 3,
    "start_time": "2025-01-22T13:22:05.565Z"
   },
   {
    "duration": 4,
    "start_time": "2025-01-22T13:22:11.303Z"
   },
   {
    "duration": 39,
    "start_time": "2025-01-22T13:23:18.521Z"
   },
   {
    "duration": 4,
    "start_time": "2025-01-22T13:24:18.127Z"
   },
   {
    "duration": 5,
    "start_time": "2025-01-22T13:24:18.322Z"
   },
   {
    "duration": 2,
    "start_time": "2025-01-22T13:24:18.496Z"
   },
   {
    "duration": 601,
    "start_time": "2025-01-22T13:24:18.867Z"
   },
   {
    "duration": 26,
    "start_time": "2025-01-22T13:24:19.705Z"
   },
   {
    "duration": 11,
    "start_time": "2025-01-22T13:24:19.982Z"
   },
   {
    "duration": 13,
    "start_time": "2025-01-22T13:24:20.420Z"
   },
   {
    "duration": 39,
    "start_time": "2025-01-22T13:24:20.788Z"
   },
   {
    "duration": 190,
    "start_time": "2025-01-22T13:27:45.804Z"
   },
   {
    "duration": 197,
    "start_time": "2025-01-22T13:27:53.517Z"
   },
   {
    "duration": 1145,
    "start_time": "2025-01-22T13:28:09.071Z"
   },
   {
    "duration": 2823,
    "start_time": "2025-01-22T13:28:19.157Z"
   },
   {
    "duration": 161,
    "start_time": "2025-01-22T13:32:48.383Z"
   },
   {
    "duration": 296,
    "start_time": "2025-01-22T13:32:54.401Z"
   },
   {
    "duration": 749,
    "start_time": "2025-01-22T13:33:01.525Z"
   },
   {
    "duration": 13,
    "start_time": "2025-01-22T13:34:57.325Z"
   },
   {
    "duration": 5,
    "start_time": "2025-01-22T13:35:02.283Z"
   },
   {
    "duration": 6,
    "start_time": "2025-01-22T15:19:05.248Z"
   },
   {
    "duration": 142,
    "start_time": "2025-01-22T15:20:07.406Z"
   },
   {
    "duration": 201,
    "start_time": "2025-01-22T15:20:13.738Z"
   },
   {
    "duration": 321,
    "start_time": "2025-01-22T15:20:23.397Z"
   },
   {
    "duration": 294,
    "start_time": "2025-01-22T15:47:48.818Z"
   },
   {
    "duration": 1573,
    "start_time": "2025-01-22T15:47:55.741Z"
   },
   {
    "duration": 3035,
    "start_time": "2025-01-22T15:48:08.719Z"
   },
   {
    "duration": 3730,
    "start_time": "2025-01-22T15:48:15.754Z"
   },
   {
    "duration": 2545,
    "start_time": "2025-01-22T20:23:56.982Z"
   },
   {
    "duration": 13,
    "start_time": "2025-01-22T20:23:59.530Z"
   },
   {
    "duration": 3,
    "start_time": "2025-01-22T20:24:00.673Z"
   },
   {
    "duration": 3,
    "start_time": "2025-01-22T20:24:10.629Z"
   },
   {
    "duration": 5,
    "start_time": "2025-01-22T20:24:11.398Z"
   },
   {
    "duration": 4,
    "start_time": "2025-01-22T20:24:12.213Z"
   },
   {
    "duration": 694,
    "start_time": "2025-01-22T20:24:13.391Z"
   },
   {
    "duration": 28,
    "start_time": "2025-01-22T20:24:18.116Z"
   },
   {
    "duration": 14,
    "start_time": "2025-01-22T20:24:18.897Z"
   },
   {
    "duration": 16,
    "start_time": "2025-01-22T20:24:19.946Z"
   },
   {
    "duration": 40,
    "start_time": "2025-01-22T20:24:21.516Z"
   },
   {
    "duration": 2908,
    "start_time": "2025-01-22T20:25:03.983Z"
   },
   {
    "duration": 648,
    "start_time": "2025-01-22T20:25:19.341Z"
   },
   {
    "duration": 6,
    "start_time": "2025-01-22T20:25:20.819Z"
   },
   {
    "duration": 3649,
    "start_time": "2025-01-22T20:25:45.924Z"
   },
   {
    "duration": 349,
    "start_time": "2025-01-22T20:29:50.937Z"
   },
   {
    "duration": 3,
    "start_time": "2025-01-22T20:30:05.072Z"
   },
   {
    "duration": 5,
    "start_time": "2025-01-22T20:30:05.452Z"
   },
   {
    "duration": 3,
    "start_time": "2025-01-22T20:30:05.934Z"
   },
   {
    "duration": 594,
    "start_time": "2025-01-22T20:30:06.408Z"
   },
   {
    "duration": 29,
    "start_time": "2025-01-22T20:30:07.050Z"
   },
   {
    "duration": 12,
    "start_time": "2025-01-22T20:30:07.183Z"
   },
   {
    "duration": 14,
    "start_time": "2025-01-22T20:30:07.572Z"
   },
   {
    "duration": 40,
    "start_time": "2025-01-22T20:30:07.737Z"
   },
   {
    "duration": 3016,
    "start_time": "2025-01-22T20:30:08.988Z"
   },
   {
    "duration": 662,
    "start_time": "2025-01-22T20:30:12.006Z"
   },
   {
    "duration": 8,
    "start_time": "2025-01-22T20:30:12.671Z"
   },
   {
    "duration": 16,
    "start_time": "2025-01-22T20:30:12.682Z"
   },
   {
    "duration": 13,
    "start_time": "2025-01-22T20:35:25.378Z"
   },
   {
    "duration": 13,
    "start_time": "2025-01-22T20:35:28.992Z"
   },
   {
    "duration": 17,
    "start_time": "2025-01-22T20:35:42.955Z"
   },
   {
    "duration": 3,
    "start_time": "2025-01-22T20:35:53.964Z"
   },
   {
    "duration": 9,
    "start_time": "2025-01-22T20:35:54.118Z"
   },
   {
    "duration": 4,
    "start_time": "2025-01-22T20:35:54.300Z"
   },
   {
    "duration": 680,
    "start_time": "2025-01-22T20:35:54.656Z"
   },
   {
    "duration": 30,
    "start_time": "2025-01-22T20:35:55.364Z"
   },
   {
    "duration": 11,
    "start_time": "2025-01-22T20:35:55.396Z"
   },
   {
    "duration": 13,
    "start_time": "2025-01-22T20:35:55.563Z"
   },
   {
    "duration": 42,
    "start_time": "2025-01-22T20:35:55.764Z"
   },
   {
    "duration": 3081,
    "start_time": "2025-01-22T20:35:56.536Z"
   },
   {
    "duration": 706,
    "start_time": "2025-01-22T20:35:59.620Z"
   },
   {
    "duration": 16,
    "start_time": "2025-01-22T20:36:00.329Z"
   },
   {
    "duration": 6,
    "start_time": "2025-01-22T20:36:00.349Z"
   },
   {
    "duration": 6,
    "start_time": "2025-01-22T20:36:08.923Z"
   },
   {
    "duration": 13,
    "start_time": "2025-01-22T20:41:37.576Z"
   },
   {
    "duration": 14,
    "start_time": "2025-01-22T20:41:45.961Z"
   },
   {
    "duration": 2262,
    "start_time": "2025-01-22T20:42:16.384Z"
   },
   {
    "duration": 6,
    "start_time": "2025-01-22T20:42:20.256Z"
   },
   {
    "duration": 4,
    "start_time": "2025-01-22T20:42:20.433Z"
   },
   {
    "duration": 608,
    "start_time": "2025-01-22T20:42:20.799Z"
   },
   {
    "duration": 23,
    "start_time": "2025-01-22T20:42:21.409Z"
   },
   {
    "duration": 13,
    "start_time": "2025-01-22T20:42:21.636Z"
   },
   {
    "duration": 13,
    "start_time": "2025-01-22T20:42:21.836Z"
   },
   {
    "duration": 39,
    "start_time": "2025-01-22T20:42:22.049Z"
   },
   {
    "duration": 2797,
    "start_time": "2025-01-22T20:42:22.832Z"
   },
   {
    "duration": 945,
    "start_time": "2025-01-22T20:42:25.632Z"
   },
   {
    "duration": 6,
    "start_time": "2025-01-22T20:42:26.579Z"
   },
   {
    "duration": 6,
    "start_time": "2025-01-22T20:42:26.588Z"
   },
   {
    "duration": 375,
    "start_time": "2025-01-22T20:42:26.596Z"
   },
   {
    "duration": 2,
    "start_time": "2025-01-22T21:13:07.934Z"
   },
   {
    "duration": 3,
    "start_time": "2025-01-22T21:17:21.609Z"
   },
   {
    "duration": 4521,
    "start_time": "2025-01-23T13:29:34.749Z"
   },
   {
    "duration": 7,
    "start_time": "2025-01-23T13:29:39.272Z"
   },
   {
    "duration": 3,
    "start_time": "2025-01-23T13:29:41.758Z"
   },
   {
    "duration": 676,
    "start_time": "2025-01-23T13:29:42.108Z"
   },
   {
    "duration": 28,
    "start_time": "2025-01-23T13:29:43.556Z"
   },
   {
    "duration": 15,
    "start_time": "2025-01-23T13:29:43.744Z"
   },
   {
    "duration": 14,
    "start_time": "2025-01-23T13:29:43.953Z"
   },
   {
    "duration": 41,
    "start_time": "2025-01-23T13:29:44.139Z"
   },
   {
    "duration": 2910,
    "start_time": "2025-01-23T13:29:45.064Z"
   },
   {
    "duration": 639,
    "start_time": "2025-01-23T13:29:47.976Z"
   },
   {
    "duration": 6,
    "start_time": "2025-01-23T13:29:48.617Z"
   },
   {
    "duration": 4,
    "start_time": "2025-01-23T13:29:48.625Z"
   },
   {
    "duration": 514,
    "start_time": "2025-01-23T13:29:48.631Z"
   },
   {
    "duration": 3,
    "start_time": "2025-01-23T13:29:49.146Z"
   },
   {
    "duration": 3,
    "start_time": "2025-01-23T13:37:24.876Z"
   },
   {
    "duration": 4,
    "start_time": "2025-01-23T13:53:40.912Z"
   },
   {
    "duration": 448,
    "start_time": "2025-01-23T13:53:48.906Z"
   },
   {
    "duration": 6,
    "start_time": "2025-01-23T13:54:00.816Z"
   },
   {
    "duration": 307,
    "start_time": "2025-01-23T13:54:01.123Z"
   },
   {
    "duration": 4,
    "start_time": "2025-01-23T13:54:01.433Z"
   },
   {
    "duration": 3,
    "start_time": "2025-01-23T13:54:01.571Z"
   },
   {
    "duration": 34,
    "start_time": "2025-01-23T13:54:01.890Z"
   },
   {
    "duration": 2,
    "start_time": "2025-01-23T13:55:45.868Z"
   },
   {
    "duration": 6,
    "start_time": "2025-01-23T13:55:46.036Z"
   },
   {
    "duration": 2,
    "start_time": "2025-01-23T13:55:46.204Z"
   },
   {
    "duration": 613,
    "start_time": "2025-01-23T13:55:46.601Z"
   },
   {
    "duration": 26,
    "start_time": "2025-01-23T13:55:47.254Z"
   },
   {
    "duration": 12,
    "start_time": "2025-01-23T13:55:47.799Z"
   },
   {
    "duration": 13,
    "start_time": "2025-01-23T13:55:48.053Z"
   },
   {
    "duration": 42,
    "start_time": "2025-01-23T13:55:48.303Z"
   },
   {
    "duration": 2738,
    "start_time": "2025-01-23T13:55:49.284Z"
   },
   {
    "duration": 860,
    "start_time": "2025-01-23T13:55:52.024Z"
   },
   {
    "duration": 6,
    "start_time": "2025-01-23T13:55:52.886Z"
   },
   {
    "duration": 6,
    "start_time": "2025-01-23T13:55:54.434Z"
   },
   {
    "duration": 293,
    "start_time": "2025-01-23T13:55:54.653Z"
   },
   {
    "duration": 2,
    "start_time": "2025-01-23T13:55:54.949Z"
   },
   {
    "duration": 3,
    "start_time": "2025-01-23T13:55:55.331Z"
   },
   {
    "duration": 30,
    "start_time": "2025-01-23T13:55:55.724Z"
   },
   {
    "duration": 3,
    "start_time": "2025-01-23T13:57:03.763Z"
   },
   {
    "duration": 8,
    "start_time": "2025-01-23T13:57:03.941Z"
   },
   {
    "duration": 3,
    "start_time": "2025-01-23T13:57:04.117Z"
   },
   {
    "duration": 593,
    "start_time": "2025-01-23T13:57:04.474Z"
   },
   {
    "duration": 27,
    "start_time": "2025-01-23T13:57:05.070Z"
   },
   {
    "duration": 12,
    "start_time": "2025-01-23T13:57:05.208Z"
   },
   {
    "duration": 15,
    "start_time": "2025-01-23T13:57:05.407Z"
   },
   {
    "duration": 40,
    "start_time": "2025-01-23T13:57:05.583Z"
   },
   {
    "duration": 2782,
    "start_time": "2025-01-23T13:57:06.336Z"
   },
   {
    "duration": 677,
    "start_time": "2025-01-23T13:57:09.120Z"
   },
   {
    "duration": 7,
    "start_time": "2025-01-23T13:57:09.799Z"
   },
   {
    "duration": 5,
    "start_time": "2025-01-23T13:57:09.808Z"
   },
   {
    "duration": 308,
    "start_time": "2025-01-23T13:57:09.815Z"
   },
   {
    "duration": 2,
    "start_time": "2025-01-23T13:57:10.126Z"
   },
   {
    "duration": 4,
    "start_time": "2025-01-23T13:57:10.130Z"
   },
   {
    "duration": 56,
    "start_time": "2025-01-23T13:57:10.135Z"
   },
   {
    "duration": 4,
    "start_time": "2025-01-23T13:58:47.713Z"
   },
   {
    "duration": 4,
    "start_time": "2025-01-23T14:06:04.697Z"
   },
   {
    "duration": 7,
    "start_time": "2025-01-23T14:06:04.781Z"
   },
   {
    "duration": 0,
    "start_time": "2025-01-23T14:06:04.870Z"
   },
   {
    "duration": 0,
    "start_time": "2025-01-23T14:06:04.873Z"
   },
   {
    "duration": 3,
    "start_time": "2025-01-23T14:08:49.123Z"
   },
   {
    "duration": 6,
    "start_time": "2025-01-23T14:08:49.334Z"
   },
   {
    "duration": 3,
    "start_time": "2025-01-23T14:08:49.491Z"
   },
   {
    "duration": 594,
    "start_time": "2025-01-23T14:08:49.839Z"
   },
   {
    "duration": 24,
    "start_time": "2025-01-23T14:08:50.434Z"
   },
   {
    "duration": 11,
    "start_time": "2025-01-23T14:08:50.597Z"
   },
   {
    "duration": 13,
    "start_time": "2025-01-23T14:08:50.777Z"
   },
   {
    "duration": 41,
    "start_time": "2025-01-23T14:08:50.975Z"
   },
   {
    "duration": 2747,
    "start_time": "2025-01-23T14:08:51.742Z"
   },
   {
    "duration": 685,
    "start_time": "2025-01-23T14:08:54.491Z"
   },
   {
    "duration": 7,
    "start_time": "2025-01-23T14:08:55.178Z"
   },
   {
    "duration": 4,
    "start_time": "2025-01-23T14:08:55.187Z"
   },
   {
    "duration": 322,
    "start_time": "2025-01-23T14:08:55.193Z"
   },
   {
    "duration": 3,
    "start_time": "2025-01-23T14:08:55.517Z"
   },
   {
    "duration": 2,
    "start_time": "2025-01-23T14:08:55.522Z"
   },
   {
    "duration": 30,
    "start_time": "2025-01-23T14:08:56.423Z"
   },
   {
    "duration": 4,
    "start_time": "2025-01-23T14:16:26.979Z"
   },
   {
    "duration": 5,
    "start_time": "2025-01-23T14:16:27.007Z"
   },
   {
    "duration": 4,
    "start_time": "2025-01-23T14:16:27.018Z"
   },
   {
    "duration": 619,
    "start_time": "2025-01-23T14:16:27.689Z"
   },
   {
    "duration": 23,
    "start_time": "2025-01-23T14:16:28.310Z"
   },
   {
    "duration": 11,
    "start_time": "2025-01-23T14:16:28.335Z"
   },
   {
    "duration": 29,
    "start_time": "2025-01-23T14:16:28.348Z"
   },
   {
    "duration": 40,
    "start_time": "2025-01-23T14:16:28.379Z"
   },
   {
    "duration": 3129,
    "start_time": "2025-01-23T14:16:28.421Z"
   },
   {
    "duration": 675,
    "start_time": "2025-01-23T14:16:31.552Z"
   },
   {
    "duration": 6,
    "start_time": "2025-01-23T14:16:32.229Z"
   },
   {
    "duration": 4,
    "start_time": "2025-01-23T14:16:32.237Z"
   },
   {
    "duration": 299,
    "start_time": "2025-01-23T14:16:32.243Z"
   },
   {
    "duration": 2,
    "start_time": "2025-01-23T14:16:32.544Z"
   },
   {
    "duration": 3,
    "start_time": "2025-01-23T14:16:32.548Z"
   },
   {
    "duration": 431906,
    "start_time": "2025-01-23T14:16:32.552Z"
   },
   {
    "duration": 13,
    "start_time": "2025-01-23T14:23:44.460Z"
   },
   {
    "duration": 10,
    "start_time": "2025-01-23T14:26:00.087Z"
   },
   {
    "duration": 7,
    "start_time": "2025-01-23T14:27:24.896Z"
   },
   {
    "duration": 305,
    "start_time": "2025-01-23T14:27:25.104Z"
   },
   {
    "duration": 2,
    "start_time": "2025-01-23T14:27:25.412Z"
   },
   {
    "duration": 3,
    "start_time": "2025-01-23T14:27:25.569Z"
   },
   {
    "duration": 23,
    "start_time": "2025-01-23T14:34:39.847Z"
   },
   {
    "duration": 7,
    "start_time": "2025-01-23T14:34:39.874Z"
   },
   {
    "duration": 3,
    "start_time": "2025-01-23T14:34:39.883Z"
   },
   {
    "duration": 617,
    "start_time": "2025-01-23T14:34:39.889Z"
   },
   {
    "duration": 21,
    "start_time": "2025-01-23T14:34:40.508Z"
   },
   {
    "duration": 11,
    "start_time": "2025-01-23T14:34:40.531Z"
   },
   {
    "duration": 29,
    "start_time": "2025-01-23T14:34:40.543Z"
   },
   {
    "duration": 37,
    "start_time": "2025-01-23T14:34:40.574Z"
   },
   {
    "duration": 3088,
    "start_time": "2025-01-23T14:34:40.613Z"
   },
   {
    "duration": 677,
    "start_time": "2025-01-23T14:34:43.703Z"
   },
   {
    "duration": 6,
    "start_time": "2025-01-23T14:34:44.382Z"
   },
   {
    "duration": 4,
    "start_time": "2025-01-23T14:34:44.391Z"
   },
   {
    "duration": 312,
    "start_time": "2025-01-23T14:34:44.397Z"
   },
   {
    "duration": 3,
    "start_time": "2025-01-23T14:34:44.711Z"
   },
   {
    "duration": 3,
    "start_time": "2025-01-23T14:34:44.715Z"
   },
   {
    "duration": 0,
    "start_time": "2025-01-23T14:41:58.070Z"
   },
   {
    "duration": 0,
    "start_time": "2025-01-23T14:41:58.074Z"
   },
   {
    "duration": 0,
    "start_time": "2025-01-23T14:41:58.075Z"
   },
   {
    "duration": 0,
    "start_time": "2025-01-23T14:41:58.077Z"
   },
   {
    "duration": 0,
    "start_time": "2025-01-23T14:41:58.078Z"
   },
   {
    "duration": 0,
    "start_time": "2025-01-23T14:41:58.080Z"
   },
   {
    "duration": 0,
    "start_time": "2025-01-23T14:41:58.081Z"
   },
   {
    "duration": 0,
    "start_time": "2025-01-23T14:41:58.081Z"
   },
   {
    "duration": 0,
    "start_time": "2025-01-23T14:41:58.083Z"
   },
   {
    "duration": 0,
    "start_time": "2025-01-23T14:41:58.084Z"
   },
   {
    "duration": 0,
    "start_time": "2025-01-23T14:41:58.085Z"
   },
   {
    "duration": 0,
    "start_time": "2025-01-23T14:41:58.086Z"
   },
   {
    "duration": 0,
    "start_time": "2025-01-23T14:41:58.087Z"
   },
   {
    "duration": 0,
    "start_time": "2025-01-23T14:41:58.088Z"
   },
   {
    "duration": 0,
    "start_time": "2025-01-23T14:41:58.090Z"
   },
   {
    "duration": 0,
    "start_time": "2025-01-23T14:41:58.091Z"
   },
   {
    "duration": 0,
    "start_time": "2025-01-23T14:41:58.092Z"
   },
   {
    "duration": 0,
    "start_time": "2025-01-23T14:41:58.093Z"
   },
   {
    "duration": 0,
    "start_time": "2025-01-23T14:41:58.094Z"
   },
   {
    "duration": 3,
    "start_time": "2025-01-23T14:45:42.242Z"
   },
   {
    "duration": 5,
    "start_time": "2025-01-23T14:45:43.653Z"
   },
   {
    "duration": 3,
    "start_time": "2025-01-23T14:45:44.171Z"
   },
   {
    "duration": 598,
    "start_time": "2025-01-23T14:45:44.873Z"
   },
   {
    "duration": 26,
    "start_time": "2025-01-23T14:45:46.254Z"
   },
   {
    "duration": 11,
    "start_time": "2025-01-23T14:45:46.595Z"
   },
   {
    "duration": 13,
    "start_time": "2025-01-23T14:45:46.924Z"
   },
   {
    "duration": 42,
    "start_time": "2025-01-23T14:45:47.209Z"
   },
   {
    "duration": 2730,
    "start_time": "2025-01-23T14:45:48.322Z"
   },
   {
    "duration": 1073,
    "start_time": "2025-01-23T14:45:51.055Z"
   },
   {
    "duration": 6,
    "start_time": "2025-01-23T14:45:52.130Z"
   },
   {
    "duration": 5,
    "start_time": "2025-01-23T14:45:54.440Z"
   },
   {
    "duration": 301,
    "start_time": "2025-01-23T14:45:55.190Z"
   },
   {
    "duration": 3,
    "start_time": "2025-01-23T14:46:00.218Z"
   },
   {
    "duration": 3,
    "start_time": "2025-01-23T14:46:00.785Z"
   },
   {
    "duration": 439149,
    "start_time": "2025-01-23T14:46:01.408Z"
   },
   {
    "duration": 16,
    "start_time": "2025-01-23T14:53:20.559Z"
   },
   {
    "duration": 19,
    "start_time": "2025-01-23T15:04:21.713Z"
   },
   {
    "duration": 19,
    "start_time": "2025-01-23T15:04:24.491Z"
   },
   {
    "duration": 12,
    "start_time": "2025-01-23T15:04:30.525Z"
   },
   {
    "duration": 21,
    "start_time": "2025-01-23T15:04:31.023Z"
   },
   {
    "duration": 17,
    "start_time": "2025-01-23T15:04:31.958Z"
   },
   {
    "duration": 20,
    "start_time": "2025-01-23T15:04:34.271Z"
   },
   {
    "duration": 19,
    "start_time": "2025-01-23T15:04:35.072Z"
   },
   {
    "duration": 18,
    "start_time": "2025-01-23T15:04:35.757Z"
   },
   {
    "duration": 10,
    "start_time": "2025-01-23T15:07:49.595Z"
   },
   {
    "duration": 7,
    "start_time": "2025-01-23T15:08:01.461Z"
   },
   {
    "duration": 130,
    "start_time": "2025-01-23T15:08:03.626Z"
   },
   {
    "duration": 3,
    "start_time": "2025-01-23T15:08:14.942Z"
   },
   {
    "duration": 6,
    "start_time": "2025-01-23T15:08:15.330Z"
   },
   {
    "duration": 4,
    "start_time": "2025-01-23T15:08:15.608Z"
   },
   {
    "duration": 622,
    "start_time": "2025-01-23T15:08:16.260Z"
   },
   {
    "duration": 31,
    "start_time": "2025-01-23T15:08:17.178Z"
   },
   {
    "duration": 12,
    "start_time": "2025-01-23T15:08:17.523Z"
   },
   {
    "duration": 13,
    "start_time": "2025-01-23T15:08:17.858Z"
   },
   {
    "duration": 39,
    "start_time": "2025-01-23T15:08:18.156Z"
   },
   {
    "duration": 2802,
    "start_time": "2025-01-23T15:08:19.334Z"
   },
   {
    "duration": 640,
    "start_time": "2025-01-23T15:08:22.138Z"
   },
   {
    "duration": 6,
    "start_time": "2025-01-23T15:08:22.780Z"
   },
   {
    "duration": 5,
    "start_time": "2025-01-23T15:08:25.955Z"
   },
   {
    "duration": 305,
    "start_time": "2025-01-23T15:08:26.898Z"
   },
   {
    "duration": 3,
    "start_time": "2025-01-23T15:08:27.565Z"
   },
   {
    "duration": 3,
    "start_time": "2025-01-23T15:08:28.477Z"
   },
   {
    "duration": 4,
    "start_time": "2025-01-23T15:30:50.000Z"
   },
   {
    "duration": 6,
    "start_time": "2025-01-23T15:30:53.753Z"
   },
   {
    "duration": 2,
    "start_time": "2025-01-23T15:30:54.633Z"
   },
   {
    "duration": 601,
    "start_time": "2025-01-23T15:30:55.647Z"
   },
   {
    "duration": 26,
    "start_time": "2025-01-23T15:30:57.548Z"
   },
   {
    "duration": 12,
    "start_time": "2025-01-23T15:30:58.058Z"
   },
   {
    "duration": 14,
    "start_time": "2025-01-23T15:30:58.586Z"
   },
   {
    "duration": 39,
    "start_time": "2025-01-23T15:30:58.988Z"
   },
   {
    "duration": 2765,
    "start_time": "2025-01-23T15:31:00.464Z"
   },
   {
    "duration": 661,
    "start_time": "2025-01-23T15:31:03.231Z"
   },
   {
    "duration": 6,
    "start_time": "2025-01-23T15:31:04.980Z"
   },
   {
    "duration": 5,
    "start_time": "2025-01-23T15:31:07.531Z"
   },
   {
    "duration": 293,
    "start_time": "2025-01-23T15:31:08.361Z"
   },
   {
    "duration": 5,
    "start_time": "2025-01-23T15:31:09.804Z"
   },
   {
    "duration": 0,
    "start_time": "2025-01-23T15:38:23.771Z"
   },
   {
    "duration": 0,
    "start_time": "2025-01-23T15:38:23.773Z"
   },
   {
    "duration": 0,
    "start_time": "2025-01-23T15:38:23.774Z"
   },
   {
    "duration": 0,
    "start_time": "2025-01-23T15:38:23.776Z"
   },
   {
    "duration": 0,
    "start_time": "2025-01-23T15:38:23.777Z"
   },
   {
    "duration": 0,
    "start_time": "2025-01-23T15:38:23.778Z"
   },
   {
    "duration": 0,
    "start_time": "2025-01-23T15:38:23.780Z"
   },
   {
    "duration": 0,
    "start_time": "2025-01-23T15:38:23.781Z"
   },
   {
    "duration": 0,
    "start_time": "2025-01-23T15:38:23.782Z"
   },
   {
    "duration": 0,
    "start_time": "2025-01-23T15:38:23.783Z"
   },
   {
    "duration": 7,
    "start_time": "2025-01-23T15:40:40.920Z"
   },
   {
    "duration": 38,
    "start_time": "2025-01-23T15:40:43.437Z"
   },
   {
    "duration": 308,
    "start_time": "2025-01-23T15:40:48.556Z"
   },
   {
    "duration": 8,
    "start_time": "2025-01-23T15:40:48.963Z"
   },
   {
    "duration": 34,
    "start_time": "2025-01-23T15:40:50.851Z"
   },
   {
    "duration": 3,
    "start_time": "2025-01-23T15:41:00.532Z"
   },
   {
    "duration": 6,
    "start_time": "2025-01-23T15:41:00.820Z"
   },
   {
    "duration": 3,
    "start_time": "2025-01-23T15:41:01.215Z"
   },
   {
    "duration": 705,
    "start_time": "2025-01-23T15:41:01.809Z"
   },
   {
    "duration": 33,
    "start_time": "2025-01-23T15:41:02.688Z"
   },
   {
    "duration": 16,
    "start_time": "2025-01-23T15:41:02.958Z"
   },
   {
    "duration": 14,
    "start_time": "2025-01-23T15:41:03.235Z"
   },
   {
    "duration": 41,
    "start_time": "2025-01-23T15:41:03.514Z"
   },
   {
    "duration": 3414,
    "start_time": "2025-01-23T15:41:04.605Z"
   },
   {
    "duration": 712,
    "start_time": "2025-01-23T15:41:08.021Z"
   },
   {
    "duration": 7,
    "start_time": "2025-01-23T15:41:08.735Z"
   },
   {
    "duration": 5,
    "start_time": "2025-01-23T15:41:10.132Z"
   },
   {
    "duration": 290,
    "start_time": "2025-01-23T15:41:13.290Z"
   },
   {
    "duration": 3,
    "start_time": "2025-01-23T15:41:14.954Z"
   },
   {
    "duration": 0,
    "start_time": "2025-01-23T15:48:54.220Z"
   },
   {
    "duration": 1,
    "start_time": "2025-01-23T15:48:54.226Z"
   },
   {
    "duration": 0,
    "start_time": "2025-01-23T15:48:54.228Z"
   },
   {
    "duration": 0,
    "start_time": "2025-01-23T15:48:54.229Z"
   },
   {
    "duration": 0,
    "start_time": "2025-01-23T15:48:54.231Z"
   },
   {
    "duration": 0,
    "start_time": "2025-01-23T15:48:54.270Z"
   },
   {
    "duration": 0,
    "start_time": "2025-01-23T15:48:54.271Z"
   },
   {
    "duration": 0,
    "start_time": "2025-01-23T15:48:54.272Z"
   },
   {
    "duration": 0,
    "start_time": "2025-01-23T15:48:54.274Z"
   },
   {
    "duration": 0,
    "start_time": "2025-01-23T15:48:54.276Z"
   },
   {
    "duration": 0,
    "start_time": "2025-01-23T15:48:54.277Z"
   },
   {
    "duration": 0,
    "start_time": "2025-01-23T15:48:54.279Z"
   },
   {
    "duration": 0,
    "start_time": "2025-01-23T15:48:54.280Z"
   },
   {
    "duration": 0,
    "start_time": "2025-01-23T15:48:54.282Z"
   },
   {
    "duration": 0,
    "start_time": "2025-01-23T15:48:54.283Z"
   },
   {
    "duration": 0,
    "start_time": "2025-01-23T15:48:54.284Z"
   },
   {
    "duration": 0,
    "start_time": "2025-01-23T15:48:54.287Z"
   },
   {
    "duration": 0,
    "start_time": "2025-01-23T15:48:54.289Z"
   },
   {
    "duration": 0,
    "start_time": "2025-01-23T15:48:54.290Z"
   },
   {
    "duration": 0,
    "start_time": "2025-01-23T15:48:54.293Z"
   },
   {
    "duration": 0,
    "start_time": "2025-01-23T15:48:54.294Z"
   },
   {
    "duration": 0,
    "start_time": "2025-01-23T15:48:54.296Z"
   },
   {
    "duration": 0,
    "start_time": "2025-01-23T15:48:54.297Z"
   },
   {
    "duration": 0,
    "start_time": "2025-01-23T15:48:54.299Z"
   },
   {
    "duration": 4,
    "start_time": "2025-01-23T15:50:16.801Z"
   },
   {
    "duration": 5,
    "start_time": "2025-01-23T15:50:19.235Z"
   },
   {
    "duration": 3,
    "start_time": "2025-01-23T15:50:19.671Z"
   },
   {
    "duration": 620,
    "start_time": "2025-01-23T15:50:21.496Z"
   },
   {
    "duration": 26,
    "start_time": "2025-01-23T15:50:23.589Z"
   },
   {
    "duration": 11,
    "start_time": "2025-01-23T15:50:24.393Z"
   },
   {
    "duration": 14,
    "start_time": "2025-01-23T15:50:24.857Z"
   },
   {
    "duration": 40,
    "start_time": "2025-01-23T15:50:25.439Z"
   },
   {
    "duration": 2768,
    "start_time": "2025-01-23T15:50:27.364Z"
   },
   {
    "duration": 646,
    "start_time": "2025-01-23T15:50:32.777Z"
   },
   {
    "duration": 6,
    "start_time": "2025-01-23T15:50:34.569Z"
   },
   {
    "duration": 5,
    "start_time": "2025-01-23T15:50:37.499Z"
   },
   {
    "duration": 303,
    "start_time": "2025-01-23T15:50:39.037Z"
   },
   {
    "duration": 4,
    "start_time": "2025-01-23T15:50:40.281Z"
   },
   {
    "duration": 435640,
    "start_time": "2025-01-23T15:50:43.145Z"
   },
   {
    "duration": 11,
    "start_time": "2025-01-23T15:57:58.788Z"
   },
   {
    "duration": 4,
    "start_time": "2025-01-23T17:00:07.123Z"
   },
   {
    "duration": 6,
    "start_time": "2025-01-23T17:00:07.745Z"
   },
   {
    "duration": 2,
    "start_time": "2025-01-23T17:00:08.248Z"
   },
   {
    "duration": 597,
    "start_time": "2025-01-23T17:00:09.201Z"
   },
   {
    "duration": 25,
    "start_time": "2025-01-23T17:00:11.287Z"
   },
   {
    "duration": 12,
    "start_time": "2025-01-23T17:00:11.922Z"
   },
   {
    "duration": 13,
    "start_time": "2025-01-23T17:00:12.862Z"
   },
   {
    "duration": 40,
    "start_time": "2025-01-23T17:00:13.880Z"
   },
   {
    "duration": 3364,
    "start_time": "2025-01-23T17:00:16.497Z"
   },
   {
    "duration": 650,
    "start_time": "2025-01-23T17:00:19.869Z"
   },
   {
    "duration": 6,
    "start_time": "2025-01-23T17:00:20.521Z"
   },
   {
    "duration": 5,
    "start_time": "2025-01-23T17:02:58.213Z"
   },
   {
    "duration": 288,
    "start_time": "2025-01-23T17:02:58.817Z"
   },
   {
    "duration": 4,
    "start_time": "2025-01-23T17:02:59.499Z"
   },
   {
    "duration": 440454,
    "start_time": "2025-01-23T17:03:01.596Z"
   },
   {
    "duration": 17,
    "start_time": "2025-01-23T17:10:22.053Z"
   },
   {
    "duration": 5,
    "start_time": "2025-01-23T17:10:22.072Z"
   },
   {
    "duration": 4,
    "start_time": "2025-01-23T18:29:53.850Z"
   },
   {
    "duration": 4952,
    "start_time": "2025-01-23T20:02:40.732Z"
   },
   {
    "duration": 6,
    "start_time": "2025-01-23T20:03:07.935Z"
   },
   {
    "duration": 7,
    "start_time": "2025-01-23T20:03:10.358Z"
   },
   {
    "duration": 3,
    "start_time": "2025-01-23T20:03:10.558Z"
   },
   {
    "duration": 698,
    "start_time": "2025-01-23T20:03:11.670Z"
   },
   {
    "duration": 22,
    "start_time": "2025-01-23T20:03:12.370Z"
   },
   {
    "duration": 15,
    "start_time": "2025-01-23T20:03:12.649Z"
   },
   {
    "duration": 21,
    "start_time": "2025-01-23T20:03:13.046Z"
   },
   {
    "duration": 41,
    "start_time": "2025-01-23T20:03:13.236Z"
   },
   {
    "duration": 2797,
    "start_time": "2025-01-23T20:03:14.259Z"
   },
   {
    "duration": 829,
    "start_time": "2025-01-23T20:03:17.058Z"
   },
   {
    "duration": 8,
    "start_time": "2025-01-23T20:03:17.889Z"
   },
   {
    "duration": 4,
    "start_time": "2025-01-23T20:03:17.899Z"
   },
   {
    "duration": 369,
    "start_time": "2025-01-23T20:03:17.905Z"
   },
   {
    "duration": 3,
    "start_time": "2025-01-23T20:03:18.277Z"
   },
   {
    "duration": 443616,
    "start_time": "2025-01-23T20:03:22.772Z"
   },
   {
    "duration": 10,
    "start_time": "2025-01-23T20:10:46.390Z"
   },
   {
    "duration": 3,
    "start_time": "2025-01-23T20:31:07.074Z"
   },
   {
    "duration": 162,
    "start_time": "2025-01-24T12:31:59.992Z"
   },
   {
    "duration": 4811,
    "start_time": "2025-01-24T12:32:04.894Z"
   },
   {
    "duration": 9,
    "start_time": "2025-01-24T12:32:09.708Z"
   },
   {
    "duration": 13,
    "start_time": "2025-01-24T12:32:09.718Z"
   },
   {
    "duration": 858,
    "start_time": "2025-01-24T12:32:09.733Z"
   },
   {
    "duration": 655,
    "start_time": "2025-01-24T12:58:33.988Z"
   },
   {
    "duration": 610,
    "start_time": "2025-01-24T13:01:18.539Z"
   },
   {
    "duration": 27,
    "start_time": "2025-01-24T13:01:19.673Z"
   },
   {
    "duration": 15,
    "start_time": "2025-01-24T13:01:20.622Z"
   },
   {
    "duration": 21,
    "start_time": "2025-01-24T13:01:21.289Z"
   },
   {
    "duration": 41,
    "start_time": "2025-01-24T13:01:21.616Z"
   },
   {
    "duration": 2835,
    "start_time": "2025-01-24T13:01:24.925Z"
   },
   {
    "duration": 5094,
    "start_time": "2025-01-24T17:50:55.927Z"
   },
   {
    "duration": 9,
    "start_time": "2025-01-24T17:51:01.023Z"
   },
   {
    "duration": 3,
    "start_time": "2025-01-24T17:51:01.034Z"
   },
   {
    "duration": 782,
    "start_time": "2025-01-24T17:51:03.650Z"
   },
   {
    "duration": 30,
    "start_time": "2025-01-24T17:51:05.444Z"
   },
   {
    "duration": 16,
    "start_time": "2025-01-24T17:51:06.237Z"
   },
   {
    "duration": 15,
    "start_time": "2025-01-24T17:51:07.049Z"
   },
   {
    "duration": 62,
    "start_time": "2025-01-24T17:51:07.352Z"
   },
   {
    "duration": 2778,
    "start_time": "2025-01-24T17:51:08.746Z"
   },
   {
    "duration": 856,
    "start_time": "2025-01-24T17:51:11.526Z"
   },
   {
    "duration": 5,
    "start_time": "2025-01-24T17:51:12.384Z"
   },
   {
    "duration": 4,
    "start_time": "2025-01-24T17:51:12.968Z"
   },
   {
    "duration": 350,
    "start_time": "2025-01-24T17:51:13.582Z"
   },
   {
    "duration": 3,
    "start_time": "2025-01-24T17:51:15.056Z"
   },
   {
    "duration": 452730,
    "start_time": "2025-01-24T17:51:16.603Z"
   },
   {
    "duration": 14,
    "start_time": "2025-01-24T17:59:14.678Z"
   },
   {
    "duration": 526,
    "start_time": "2025-01-24T17:59:17.323Z"
   },
   {
    "duration": 743,
    "start_time": "2025-01-24T18:00:03.700Z"
   },
   {
    "duration": 58,
    "start_time": "2025-01-24T18:00:41.853Z"
   },
   {
    "duration": 3,
    "start_time": "2025-01-24T18:03:44.868Z"
   },
   {
    "duration": 10,
    "start_time": "2025-01-24T18:03:57.734Z"
   },
   {
    "duration": 3,
    "start_time": "2025-01-24T18:04:13.074Z"
   },
   {
    "duration": 3908,
    "start_time": "2025-01-24T18:04:20.199Z"
   },
   {
    "duration": 4,
    "start_time": "2025-01-24T18:04:27.542Z"
   },
   {
    "duration": 2709,
    "start_time": "2025-01-24T18:04:44.179Z"
   },
   {
    "duration": 2725,
    "start_time": "2025-01-24T18:16:16.331Z"
   },
   {
    "duration": 4,
    "start_time": "2025-01-24T18:34:34.709Z"
   },
   {
    "duration": 31092,
    "start_time": "2025-01-24T18:42:56.286Z"
   },
   {
    "duration": 166322,
    "start_time": "2025-01-24T18:45:10.411Z"
   },
   {
    "duration": 161503,
    "start_time": "2025-01-24T18:47:56.735Z"
   },
   {
    "duration": 4,
    "start_time": "2025-01-24T18:53:24.968Z"
   },
   {
    "duration": 136886,
    "start_time": "2025-01-24T18:53:26.076Z"
   },
   {
    "duration": 5,
    "start_time": "2025-01-24T18:56:54.628Z"
   },
   {
    "duration": 139478,
    "start_time": "2025-01-24T18:59:35.676Z"
   },
   {
    "duration": 7675,
    "start_time": "2025-01-24T19:01:55.156Z"
   },
   {
    "duration": 72703,
    "start_time": "2025-01-24T19:02:34.132Z"
   },
   {
    "duration": 3,
    "start_time": "2025-01-24T20:35:52.548Z"
   },
   {
    "duration": 3,
    "start_time": "2025-01-24T20:42:20.943Z"
   },
   {
    "duration": 29,
    "start_time": "2025-01-24T20:42:21.592Z"
   },
   {
    "duration": 7,
    "start_time": "2025-01-24T20:44:10.954Z"
   },
   {
    "duration": 21,
    "start_time": "2025-01-24T20:46:48.854Z"
   },
   {
    "duration": 6,
    "start_time": "2025-01-24T20:47:26.221Z"
   },
   {
    "duration": 90,
    "start_time": "2025-01-24T20:53:46.719Z"
   },
   {
    "duration": 24,
    "start_time": "2025-01-24T20:55:39.997Z"
   },
   {
    "duration": 6,
    "start_time": "2025-01-24T20:55:40.608Z"
   },
   {
    "duration": 6,
    "start_time": "2025-01-24T20:55:41.123Z"
   },
   {
    "duration": 30,
    "start_time": "2025-01-24T20:55:43.879Z"
   },
   {
    "duration": 4,
    "start_time": "2025-01-24T20:56:52.164Z"
   },
   {
    "duration": 24,
    "start_time": "2025-01-24T20:56:52.430Z"
   },
   {
    "duration": 9,
    "start_time": "2025-01-24T20:56:52.722Z"
   },
   {
    "duration": 6,
    "start_time": "2025-01-24T20:56:53.196Z"
   },
   {
    "duration": 39,
    "start_time": "2025-01-24T20:56:54.098Z"
   },
   {
    "duration": 37,
    "start_time": "2025-01-24T21:00:29.176Z"
   },
   {
    "duration": 31,
    "start_time": "2025-01-24T21:01:38.087Z"
   },
   {
    "duration": 59,
    "start_time": "2025-01-24T21:01:54.692Z"
   },
   {
    "duration": 3,
    "start_time": "2025-01-24T21:04:49.054Z"
   },
   {
    "duration": 27,
    "start_time": "2025-01-24T21:04:50.194Z"
   },
   {
    "duration": 8,
    "start_time": "2025-01-24T21:04:51.268Z"
   },
   {
    "duration": 5,
    "start_time": "2025-01-24T21:04:52.479Z"
   },
   {
    "duration": 39,
    "start_time": "2025-01-24T21:04:54.381Z"
   },
   {
    "duration": 114,
    "start_time": "2025-01-24T21:05:04.099Z"
   },
   {
    "duration": 68,
    "start_time": "2025-01-24T21:05:09.295Z"
   },
   {
    "duration": 157,
    "start_time": "2025-01-27T15:11:53.847Z"
   },
   {
    "duration": 12,
    "start_time": "2025-01-27T15:11:57.052Z"
   },
   {
    "duration": 12,
    "start_time": "2025-01-27T15:12:00.164Z"
   },
   {
    "duration": 13,
    "start_time": "2025-01-27T15:12:03.324Z"
   },
   {
    "duration": 60,
    "start_time": "2025-01-27T15:12:08.735Z"
   },
   {
    "duration": 4731,
    "start_time": "2025-01-27T15:12:14.410Z"
   },
   {
    "duration": 10,
    "start_time": "2025-01-27T15:12:19.143Z"
   },
   {
    "duration": 3,
    "start_time": "2025-01-27T15:12:21.654Z"
   },
   {
    "duration": 658,
    "start_time": "2025-01-27T15:12:23.217Z"
   },
   {
    "duration": 27,
    "start_time": "2025-01-27T15:12:26.683Z"
   },
   {
    "duration": 14,
    "start_time": "2025-01-27T15:12:27.679Z"
   },
   {
    "duration": 14,
    "start_time": "2025-01-27T15:12:28.982Z"
   },
   {
    "duration": 39,
    "start_time": "2025-01-27T15:12:30.730Z"
   },
   {
    "duration": 2851,
    "start_time": "2025-01-27T15:12:33.805Z"
   },
   {
    "duration": 627,
    "start_time": "2025-01-27T15:12:36.658Z"
   },
   {
    "duration": 7,
    "start_time": "2025-01-27T15:12:38.724Z"
   },
   {
    "duration": 5,
    "start_time": "2025-01-27T15:12:41.964Z"
   },
   {
    "duration": 358,
    "start_time": "2025-01-27T15:12:42.868Z"
   },
   {
    "duration": 3,
    "start_time": "2025-01-27T15:12:44.210Z"
   },
   {
    "duration": 433054,
    "start_time": "2025-01-27T15:12:46.353Z"
   },
   {
    "duration": 12,
    "start_time": "2025-01-27T15:20:06.609Z"
   },
   {
    "duration": 3,
    "start_time": "2025-01-27T15:20:09.249Z"
   },
   {
    "duration": 11,
    "start_time": "2025-01-27T15:20:10.026Z"
   },
   {
    "duration": 2,
    "start_time": "2025-01-27T15:20:10.806Z"
   },
   {
    "duration": 3878,
    "start_time": "2025-01-27T15:20:11.654Z"
   },
   {
    "duration": 5,
    "start_time": "2025-01-27T15:20:17.748Z"
   },
   {
    "duration": 2826,
    "start_time": "2025-01-27T15:20:18.759Z"
   },
   {
    "duration": 3,
    "start_time": "2025-01-27T15:20:22.879Z"
   },
   {
    "duration": 138839,
    "start_time": "2025-01-27T15:20:25.356Z"
   },
   {
    "duration": 7385,
    "start_time": "2025-01-27T15:23:01.668Z"
   },
   {
    "duration": 72289,
    "start_time": "2025-01-27T15:23:46.348Z"
   },
   {
    "duration": 4,
    "start_time": "2025-01-27T15:25:19.592Z"
   },
   {
    "duration": 21,
    "start_time": "2025-01-27T15:25:22.866Z"
   },
   {
    "duration": 7,
    "start_time": "2025-01-27T15:25:24.973Z"
   },
   {
    "duration": 5,
    "start_time": "2025-01-27T15:25:27.691Z"
   },
   {
    "duration": 398,
    "start_time": "2025-01-27T15:25:30.600Z"
   },
   {
    "duration": 67,
    "start_time": "2025-01-27T15:25:33.964Z"
   },
   {
    "duration": 335,
    "start_time": "2025-01-27T15:26:13.326Z"
   },
   {
    "duration": 27,
    "start_time": "2025-01-27T15:28:25.783Z"
   },
   {
    "duration": 33,
    "start_time": "2025-01-27T15:29:08.153Z"
   },
   {
    "duration": 4,
    "start_time": "2025-01-27T15:42:20.041Z"
   },
   {
    "duration": 21,
    "start_time": "2025-01-27T15:42:20.899Z"
   },
   {
    "duration": 7,
    "start_time": "2025-01-27T15:42:22.219Z"
   },
   {
    "duration": 6,
    "start_time": "2025-01-27T15:42:23.363Z"
   },
   {
    "duration": 6,
    "start_time": "2025-01-27T15:42:28.205Z"
   },
   {
    "duration": 3,
    "start_time": "2025-01-27T15:43:19.692Z"
   },
   {
    "duration": 21,
    "start_time": "2025-01-27T15:43:20.238Z"
   },
   {
    "duration": 6,
    "start_time": "2025-01-27T15:43:21.136Z"
   },
   {
    "duration": 6,
    "start_time": "2025-01-27T15:43:21.821Z"
   },
   {
    "duration": 3,
    "start_time": "2025-01-27T15:43:37.546Z"
   },
   {
    "duration": 21,
    "start_time": "2025-01-27T15:43:38.010Z"
   },
   {
    "duration": 7,
    "start_time": "2025-01-27T15:43:38.556Z"
   },
   {
    "duration": 4,
    "start_time": "2025-01-27T15:43:39.225Z"
   },
   {
    "duration": 5,
    "start_time": "2025-01-27T15:43:53.468Z"
   },
   {
    "duration": 4,
    "start_time": "2025-01-27T15:45:11.994Z"
   },
   {
    "duration": 4,
    "start_time": "2025-01-27T15:45:12.486Z"
   },
   {
    "duration": 30,
    "start_time": "2025-01-27T15:45:13.952Z"
   },
   {
    "duration": 4,
    "start_time": "2025-01-27T15:45:27.724Z"
   },
   {
    "duration": 21,
    "start_time": "2025-01-27T15:45:32.721Z"
   },
   {
    "duration": 7,
    "start_time": "2025-01-27T15:45:35.782Z"
   },
   {
    "duration": 6,
    "start_time": "2025-01-27T15:45:37.428Z"
   },
   {
    "duration": 3,
    "start_time": "2025-01-27T15:45:39.117Z"
   },
   {
    "duration": 28,
    "start_time": "2025-01-27T15:45:41.460Z"
   },
   {
    "duration": 3,
    "start_time": "2025-01-27T15:45:48.526Z"
   },
   {
    "duration": 5,
    "start_time": "2025-01-27T15:45:49.210Z"
   },
   {
    "duration": 28,
    "start_time": "2025-01-27T15:45:50.613Z"
   },
   {
    "duration": 4,
    "start_time": "2025-01-27T15:45:58.997Z"
   },
   {
    "duration": 21,
    "start_time": "2025-01-27T15:45:59.504Z"
   },
   {
    "duration": 7,
    "start_time": "2025-01-27T15:45:59.878Z"
   },
   {
    "duration": 4,
    "start_time": "2025-01-27T15:46:00.375Z"
   },
   {
    "duration": 5,
    "start_time": "2025-01-27T15:46:00.913Z"
   },
   {
    "duration": 35,
    "start_time": "2025-01-27T15:46:01.935Z"
   },
   {
    "duration": 11,
    "start_time": "2025-01-27T15:49:32.837Z"
   },
   {
    "duration": 547,
    "start_time": "2025-01-27T15:49:40.073Z"
   },
   {
    "duration": 3,
    "start_time": "2025-01-27T15:49:40.687Z"
   },
   {
    "duration": 5,
    "start_time": "2025-01-27T15:49:57.314Z"
   },
   {
    "duration": 445,
    "start_time": "2025-01-27T15:49:57.871Z"
   },
   {
    "duration": 127,
    "start_time": "2025-01-27T15:49:58.546Z"
   },
   {
    "duration": 3,
    "start_time": "2025-01-27T15:49:59.402Z"
   },
   {
    "duration": 40,
    "start_time": "2025-01-27T15:50:00.195Z"
   },
   {
    "duration": 3,
    "start_time": "2025-01-27T15:50:02.519Z"
   },
   {
    "duration": 42,
    "start_time": "2025-01-27T15:50:15.655Z"
   },
   {
    "duration": 9,
    "start_time": "2025-01-27T15:50:28.371Z"
   },
   {
    "duration": 10,
    "start_time": "2025-01-27T15:50:31.268Z"
   },
   {
    "duration": 38,
    "start_time": "2025-01-27T15:50:36.738Z"
   },
   {
    "duration": 123,
    "start_time": "2025-01-27T15:50:44.818Z"
   },
   {
    "duration": 7,
    "start_time": "2025-01-27T15:50:54.322Z"
   },
   {
    "duration": 35,
    "start_time": "2025-01-27T15:50:56.685Z"
   },
   {
    "duration": 3,
    "start_time": "2025-01-27T15:51:00.852Z"
   },
   {
    "duration": 6,
    "start_time": "2025-01-27T15:51:01.061Z"
   },
   {
    "duration": 3,
    "start_time": "2025-01-27T15:51:01.270Z"
   },
   {
    "duration": 580,
    "start_time": "2025-01-27T15:51:01.786Z"
   },
   {
    "duration": 25,
    "start_time": "2025-01-27T15:51:02.578Z"
   },
   {
    "duration": 12,
    "start_time": "2025-01-27T15:51:02.879Z"
   },
   {
    "duration": 12,
    "start_time": "2025-01-27T15:51:03.180Z"
   },
   {
    "duration": 38,
    "start_time": "2025-01-27T15:51:03.441Z"
   },
   {
    "duration": 2752,
    "start_time": "2025-01-27T15:51:04.592Z"
   },
   {
    "duration": 665,
    "start_time": "2025-01-27T15:51:07.347Z"
   },
   {
    "duration": 6,
    "start_time": "2025-01-27T15:51:08.014Z"
   },
   {
    "duration": 5,
    "start_time": "2025-01-27T15:51:11.801Z"
   },
   {
    "duration": 296,
    "start_time": "2025-01-27T15:51:12.753Z"
   },
   {
    "duration": 3,
    "start_time": "2025-01-27T15:51:14.005Z"
   },
   {
    "duration": 431819,
    "start_time": "2025-01-27T15:51:15.251Z"
   },
   {
    "duration": 11,
    "start_time": "2025-01-27T15:58:27.072Z"
   },
   {
    "duration": 10,
    "start_time": "2025-01-27T16:01:09.643Z"
   },
   {
    "duration": 3,
    "start_time": "2025-01-27T16:01:10.624Z"
   },
   {
    "duration": 11,
    "start_time": "2025-01-27T16:01:16.615Z"
   },
   {
    "duration": 11,
    "start_time": "2025-01-27T16:01:31.398Z"
   },
   {
    "duration": 4,
    "start_time": "2025-01-27T16:01:32.450Z"
   },
   {
    "duration": 3981,
    "start_time": "2025-01-27T16:01:35.209Z"
   },
   {
    "duration": 5,
    "start_time": "2025-01-27T16:01:44.573Z"
   },
   {
    "duration": 1946,
    "start_time": "2025-01-27T16:03:12.486Z"
   },
   {
    "duration": 1923,
    "start_time": "2025-01-27T16:03:24.055Z"
   },
   {
    "duration": 1971,
    "start_time": "2025-01-27T16:03:36.331Z"
   },
   {
    "duration": 1839,
    "start_time": "2025-01-27T16:05:05.056Z"
   },
   {
    "duration": 2714,
    "start_time": "2025-01-27T16:05:09.225Z"
   },
   {
    "duration": 3,
    "start_time": "2025-01-27T16:05:14.040Z"
   },
   {
    "duration": 142220,
    "start_time": "2025-01-27T16:05:16.156Z"
   },
   {
    "duration": 7588,
    "start_time": "2025-01-27T16:07:46.269Z"
   },
   {
    "duration": 72721,
    "start_time": "2025-01-27T16:08:04.720Z"
   },
   {
    "duration": 4,
    "start_time": "2025-01-27T16:09:24.771Z"
   },
   {
    "duration": 23,
    "start_time": "2025-01-27T16:09:25.621Z"
   },
   {
    "duration": 7,
    "start_time": "2025-01-27T16:09:26.438Z"
   },
   {
    "duration": 4,
    "start_time": "2025-01-27T16:09:27.122Z"
   },
   {
    "duration": 5,
    "start_time": "2025-01-27T16:09:28.001Z"
   },
   {
    "duration": 5,
    "start_time": "2025-01-27T16:09:29.523Z"
   },
   {
    "duration": 5,
    "start_time": "2025-01-27T16:09:30.464Z"
   },
   {
    "duration": 71,
    "start_time": "2025-01-27T16:09:31.055Z"
   }
  ],
  "kernelspec": {
   "display_name": "Python 3 (ipykernel)",
   "language": "python",
   "name": "python3"
  },
  "language_info": {
   "codemirror_mode": {
    "name": "ipython",
    "version": 3
   },
   "file_extension": ".py",
   "mimetype": "text/x-python",
   "name": "python",
   "nbconvert_exporter": "python",
   "pygments_lexer": "ipython3",
   "version": "3.9.19"
  },
  "toc": {
   "base_numbering": 1,
   "nav_menu": {},
   "number_sections": true,
   "sideBar": true,
   "skip_h1_title": true,
   "title_cell": "Table of Contents",
   "title_sidebar": "Contents",
   "toc_cell": false,
   "toc_position": {},
   "toc_section_display": true,
   "toc_window_display": false
  },
  "vscode": {
   "interpreter": {
    "hash": "ac629f305345b17df6668bc9b17021b4f12075c260532782c34ed55a489bc20f"
   }
  }
 },
 "nbformat": 4,
 "nbformat_minor": 4
}
